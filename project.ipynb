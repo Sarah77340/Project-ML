{
 "cells": [
  {
   "cell_type": "code",
   "execution_count": 1,
   "id": "6471e483",
   "metadata": {},
   "outputs": [],
   "source": [
    "%matplotlib inline\n",
    "import pandas as pd\n",
    "import geopandas as gpd\n",
    "import numpy as np\n",
    "import matplotlib.pyplot as plt\n",
    "import seaborn as sns\n",
    "import datetime as dt"
   ]
  },
  {
   "cell_type": "markdown",
   "id": "c735440a",
   "metadata": {},
   "source": [
    "## Loading Data Incendie\n"
   ]
  },
  {
   "cell_type": "code",
   "execution_count": 2,
   "id": "ad4900f0",
   "metadata": {},
   "outputs": [
    {
     "data": {
      "text/plain": [
       "(27785, 24)"
      ]
     },
     "execution_count": 2,
     "metadata": {},
     "output_type": "execute_result"
    }
   ],
   "source": [
    "df_incendie= pd.read_csv('./Data/Incendies.csv', sep=';', header=3)\n",
    "df_incendie.shape"
   ]
  },
  {
   "cell_type": "code",
   "execution_count": 3,
   "id": "762357f3",
   "metadata": {},
   "outputs": [
    {
     "data": {
      "text/plain": [
       "Index(['Année', 'Numéro', 'Département', 'Code INSEE', 'Nom de la commune',\n",
       "       'Date de première alerte', 'Surface parcourue (m2)',\n",
       "       'Surface forêt (m2)', 'Surface maquis garrigues (m2)',\n",
       "       'Autres surfaces naturelles hors forêt (m2)', 'Surfaces agricoles (m2)',\n",
       "       'Autres surfaces (m2)', 'Surface autres terres boisées (m2)',\n",
       "       'Surfaces non boisées naturelles (m2)',\n",
       "       'Surfaces non boisées artificialisées (m2)',\n",
       "       'Surfaces non boisées (m2)', 'Précision des surfaces',\n",
       "       'Type de peuplement', 'Nature', 'Décès ou bâtiments touchés',\n",
       "       'Nombre de décès', 'Nombre de bâtiments totalement détruits',\n",
       "       'Nombre de bâtiments partiellement détruits', 'Précision de la donnée'],\n",
       "      dtype='object')"
      ]
     },
     "execution_count": 3,
     "metadata": {},
     "output_type": "execute_result"
    }
   ],
   "source": [
    "df_incendie.columns"
   ]
  },
  {
   "cell_type": "code",
   "execution_count": 4,
   "id": "14747ca5",
   "metadata": {},
   "outputs": [],
   "source": [
    "colonnes_utiles = [\n",
    "    'Année',\n",
    "    'Numéro',\n",
    "    'Département',\n",
    "    'Code INSEE',\n",
    "    'Date de première alerte',\n",
    "    'Surface parcourue (m2)',  \n",
    "    'Surface forêt (m2)',\n",
    "    'Surface autres terres boisées (m2)',\n",
    "    'Surfaces non boisées naturelles (m2)',\n",
    "    'Surfaces non boisées artificialisées (m2)',\n",
    "    'Surfaces non boisées (m2)'\n",
    "]\n",
    "\n",
    "incendie = df_incendie[colonnes_utiles].copy()\n"
   ]
  },
  {
   "cell_type": "code",
   "execution_count": 5,
   "id": "b20a186a",
   "metadata": {},
   "outputs": [
    {
     "data": {
      "text/html": [
       "<div>\n",
       "<style scoped>\n",
       "    .dataframe tbody tr th:only-of-type {\n",
       "        vertical-align: middle;\n",
       "    }\n",
       "\n",
       "    .dataframe tbody tr th {\n",
       "        vertical-align: top;\n",
       "    }\n",
       "\n",
       "    .dataframe thead th {\n",
       "        text-align: right;\n",
       "    }\n",
       "</style>\n",
       "<table border=\"1\" class=\"dataframe\">\n",
       "  <thead>\n",
       "    <tr style=\"text-align: right;\">\n",
       "      <th></th>\n",
       "      <th>Année</th>\n",
       "      <th>Numéro</th>\n",
       "      <th>Département</th>\n",
       "      <th>Code INSEE</th>\n",
       "      <th>Date de première alerte</th>\n",
       "      <th>Surface parcourue (m2)</th>\n",
       "      <th>Surface forêt (m2)</th>\n",
       "      <th>Surface autres terres boisées (m2)</th>\n",
       "      <th>Surfaces non boisées naturelles (m2)</th>\n",
       "      <th>Surfaces non boisées artificialisées (m2)</th>\n",
       "      <th>Surfaces non boisées (m2)</th>\n",
       "    </tr>\n",
       "  </thead>\n",
       "  <tbody>\n",
       "    <tr>\n",
       "      <th>0</th>\n",
       "      <td>2015</td>\n",
       "      <td>5769</td>\n",
       "      <td>66</td>\n",
       "      <td>66100</td>\n",
       "      <td>2015-01-01 00:09:00</td>\n",
       "      <td>5000</td>\n",
       "      <td>5000.0</td>\n",
       "      <td>NaN</td>\n",
       "      <td>NaN</td>\n",
       "      <td>NaN</td>\n",
       "      <td>NaN</td>\n",
       "    </tr>\n",
       "  </tbody>\n",
       "</table>\n",
       "</div>"
      ],
      "text/plain": [
       "   Année  Numéro Département Code INSEE Date de première alerte  \\\n",
       "0   2015    5769          66      66100     2015-01-01 00:09:00   \n",
       "\n",
       "   Surface parcourue (m2)  Surface forêt (m2)  \\\n",
       "0                    5000              5000.0   \n",
       "\n",
       "   Surface autres terres boisées (m2)  Surfaces non boisées naturelles (m2)  \\\n",
       "0                                 NaN                                   NaN   \n",
       "\n",
       "   Surfaces non boisées artificialisées (m2)  Surfaces non boisées (m2)  \n",
       "0                                        NaN                        NaN  "
      ]
     },
     "execution_count": 5,
     "metadata": {},
     "output_type": "execute_result"
    }
   ],
   "source": [
    "incendie.head(1)"
   ]
  },
  {
   "cell_type": "markdown",
   "id": "1ae9a20f",
   "metadata": {},
   "source": [
    "## Cleaning Data Incendie"
   ]
  },
  {
   "cell_type": "code",
   "execution_count": 6,
   "id": "9d090058",
   "metadata": {},
   "outputs": [
    {
     "data": {
      "text/plain": [
       "Année                                        False\n",
       "Numéro                                       False\n",
       "Département                                  False\n",
       "Code INSEE                                   False\n",
       "Date de première alerte                      False\n",
       "Surface parcourue (m2)                       False\n",
       "Surface forêt (m2)                            True\n",
       "Surface autres terres boisées (m2)            True\n",
       "Surfaces non boisées naturelles (m2)          True\n",
       "Surfaces non boisées artificialisées (m2)     True\n",
       "Surfaces non boisées (m2)                     True\n",
       "dtype: bool"
      ]
     },
     "execution_count": 6,
     "metadata": {},
     "output_type": "execute_result"
    }
   ],
   "source": [
    "incendie.isna().any()"
   ]
  },
  {
   "cell_type": "code",
   "execution_count": 7,
   "id": "e8989cb0",
   "metadata": {},
   "outputs": [],
   "source": [
    "incendie.fillna(0, inplace=True)"
   ]
  },
  {
   "cell_type": "code",
   "execution_count": 8,
   "id": "4378f440",
   "metadata": {},
   "outputs": [],
   "source": [
    "# On fusionne les surfaces forêt + autres terres boisées, et les surfaces non boisées naturelles + artificialisées, pour créer des indicateurs synthétiques de type de terrain\n",
    "incendie.iloc[:,6] = incendie.iloc[:,6] + incendie.iloc[:,7]\n",
    "incendie.iloc[:,9] = incendie.iloc[:,9] + incendie.iloc[:,10]"
   ]
  },
  {
   "cell_type": "code",
   "execution_count": 9,
   "id": "06a2c32f",
   "metadata": {},
   "outputs": [],
   "source": [
    "# Suppression des colonnes redondantes après fusion manuelle des surfaces boisées et non boisées\n",
    "incendie.drop(['Surface autres terres boisées (m2)','Surfaces non boisées (m2)'], axis=1, inplace=True)"
   ]
  },
  {
   "cell_type": "code",
   "execution_count": 10,
   "id": "c55e66dd",
   "metadata": {},
   "outputs": [],
   "source": [
    "incendie.rename(columns={\n",
    "    'Année': 'annee',\n",
    "    'Numéro': 'id_inc',\n",
    "    'Département': 'dep',\n",
    "    'Code INSEE': 'code_insee',\n",
    "    'Date de première alerte': 'date',\n",
    "    'Surface parcourue (m2)': 'surf_brulee',\n",
    "    'Surface forêt (m2)': 'surf_foret',\n",
    "    'Surface autres terres boisées (m2)': 'surf_autres_bois',\n",
    "    'Surfaces non boisées naturelles (m2)': 'surf_nb_naturelle',\n",
    "    'Surfaces non boisées artificialisées (m2)': 'surf_nb_artificielle',\n",
    "    'Surfaces non boisées (m2)': 'surf_nb_totale'\n",
    "}, inplace=True)"
   ]
  },
  {
   "cell_type": "code",
   "execution_count": 11,
   "id": "7390f843",
   "metadata": {},
   "outputs": [
    {
     "data": {
      "text/plain": [
       "(27785, 9)"
      ]
     },
     "execution_count": 11,
     "metadata": {},
     "output_type": "execute_result"
    }
   ],
   "source": [
    "incendie.shape"
   ]
  },
  {
   "cell_type": "code",
   "execution_count": 12,
   "id": "f359b0c2",
   "metadata": {},
   "outputs": [
    {
     "data": {
      "text/plain": [
       "(27785, 9)"
      ]
     },
     "execution_count": 12,
     "metadata": {},
     "output_type": "execute_result"
    }
   ],
   "source": [
    "incendie.drop_duplicates(['date','id_inc']).shape"
   ]
  },
  {
   "cell_type": "code",
   "execution_count": 13,
   "id": "0a1ab799",
   "metadata": {},
   "outputs": [
    {
     "data": {
      "text/plain": [
       "(27756, 9)"
      ]
     },
     "execution_count": 13,
     "metadata": {},
     "output_type": "execute_result"
    }
   ],
   "source": [
    "incendie.drop_duplicates(['code_insee','id_inc']).shape"
   ]
  },
  {
   "cell_type": "code",
   "execution_count": 14,
   "id": "91a68313",
   "metadata": {},
   "outputs": [
    {
     "data": {
      "text/plain": [
       "annee                     int64\n",
       "id_inc                    int64\n",
       "dep                      object\n",
       "code_insee               object\n",
       "date                     object\n",
       "surf_brulee               int64\n",
       "surf_foret              float64\n",
       "surf_nb_naturelle       float64\n",
       "surf_nb_artificielle    float64\n",
       "dtype: object"
      ]
     },
     "execution_count": 14,
     "metadata": {},
     "output_type": "execute_result"
    }
   ],
   "source": [
    "incendie.dtypes"
   ]
  },
  {
   "cell_type": "code",
   "execution_count": 15,
   "id": "03dbfcaf",
   "metadata": {},
   "outputs": [],
   "source": [
    "# On enlève les départements corses\n",
    "incendie = incendie[~incendie['code_insee'].astype(str).str.startswith(('2A', '2B'))]"
   ]
  },
  {
   "cell_type": "code",
   "execution_count": 16,
   "id": "d24bb1bd",
   "metadata": {},
   "outputs": [],
   "source": [
    "# On convertit la colonne code_insee en entier\n",
    "incendie['code_insee'] = incendie['code_insee'].astype(int)"
   ]
  },
  {
   "cell_type": "code",
   "execution_count": 17,
   "id": "fee4c400",
   "metadata": {},
   "outputs": [],
   "source": [
    "# Regroupement des départements d’Île-de-France sous le code de Paris ('75'), comme dans les données IGN sauf pour la Seine-et-Marne \n",
    "incendie.loc[\n",
    "    (incendie.dep == '75') |\n",
    "    (incendie.dep == '91') |\n",
    "    (incendie.dep == '92') |\n",
    "    (incendie.dep == '93') |\n",
    "    (incendie.dep == '94') |\n",
    "    (incendie.dep == '95') |\n",
    "    (incendie.dep == '78'),\n",
    "    'dep'\n",
    "] = '75'"
   ]
  },
  {
   "cell_type": "code",
   "execution_count": 18,
   "id": "c8c3b268",
   "metadata": {},
   "outputs": [],
   "source": [
    "# Convertir les dates en datetime\n",
    "incendie['date'] = incendie.date.apply(lambda _: dt.datetime.strptime(_,\"%Y-%m-%d %H:%M:%S\"))"
   ]
  },
  {
   "cell_type": "markdown",
   "id": "6f3e9424",
   "metadata": {},
   "source": [
    "## Loading Geographic Data"
   ]
  },
  {
   "cell_type": "code",
   "execution_count": 32,
   "id": "4a1f4b6f",
   "metadata": {},
   "outputs": [],
   "source": [
    "coords= gpd.read_file('./Data/commune.shp')"
   ]
  },
  {
   "cell_type": "code",
   "execution_count": 33,
   "id": "12e2f4a0",
   "metadata": {},
   "outputs": [
    {
     "data": {
      "text/plain": [
       "((34935, 12),\n",
       " Index(['ID', 'NOM', 'NOM_M', 'INSEE_COM', 'STATUT', 'POPULATION', 'INSEE_CAN',\n",
       "        'INSEE_ARR', 'INSEE_DEP', 'INSEE_REG', 'SIREN_EPCI', 'geometry'],\n",
       "       dtype='object'))"
      ]
     },
     "execution_count": 33,
     "metadata": {},
     "output_type": "execute_result"
    }
   ],
   "source": [
    "# Affichage du nombre de communes et des colonnes disponibles dans le shapefile AdminExpress\n",
    "coords.shape, coords.columns"
   ]
  },
  {
   "cell_type": "code",
   "execution_count": 34,
   "id": "0a6a047a",
   "metadata": {},
   "outputs": [],
   "source": [
    "coords = coords[['INSEE_COM', 'INSEE_DEP', 'geometry']].copy()\n",
    "coords.columns = ['code_insee', 'dep', 'geometry']"
   ]
  },
  {
   "cell_type": "code",
   "execution_count": 35,
   "id": "3983c253",
   "metadata": {},
   "outputs": [],
   "source": [
    "# On sélectionne les colonnes utiles et on harmonise le code INSEE au format chaîne de 5 caractères\n",
    "coords['code_insee'] = coords['code_insee'].astype(str).str.zfill(5)"
   ]
  },
  {
   "cell_type": "code",
   "execution_count": 36,
   "id": "8b4c1dd5",
   "metadata": {},
   "outputs": [],
   "source": [
    "coords.loc[(coords.dep=='75')|(coords.dep=='91')|(coords.dep=='92')|(coords.dep=='93')|(coords.dep=='94')|(coords.dep=='95')|(coords.dep=='78'), 'dep'] = '75'"
   ]
  },
  {
   "cell_type": "code",
   "execution_count": 37,
   "id": "262161a6",
   "metadata": {},
   "outputs": [
    {
     "data": {
      "text/html": [
       "<div>\n",
       "<style scoped>\n",
       "    .dataframe tbody tr th:only-of-type {\n",
       "        vertical-align: middle;\n",
       "    }\n",
       "\n",
       "    .dataframe tbody tr th {\n",
       "        vertical-align: top;\n",
       "    }\n",
       "\n",
       "    .dataframe thead th {\n",
       "        text-align: right;\n",
       "    }\n",
       "</style>\n",
       "<table border=\"1\" class=\"dataframe\">\n",
       "  <thead>\n",
       "    <tr style=\"text-align: right;\">\n",
       "      <th></th>\n",
       "      <th>annee</th>\n",
       "      <th>id_inc</th>\n",
       "      <th>dep</th>\n",
       "      <th>code_insee</th>\n",
       "      <th>date</th>\n",
       "      <th>surf_brulee</th>\n",
       "      <th>surf_foret</th>\n",
       "      <th>surf_nb_naturelle</th>\n",
       "      <th>surf_nb_artificielle</th>\n",
       "    </tr>\n",
       "  </thead>\n",
       "  <tbody>\n",
       "    <tr>\n",
       "      <th>118</th>\n",
       "      <td>2015</td>\n",
       "      <td>6934</td>\n",
       "      <td>48</td>\n",
       "      <td>48122</td>\n",
       "      <td>2015-02-18 14:30:00</td>\n",
       "      <td>12500</td>\n",
       "      <td>6000.0</td>\n",
       "      <td>0.0</td>\n",
       "      <td>6500.0</td>\n",
       "    </tr>\n",
       "    <tr>\n",
       "      <th>189</th>\n",
       "      <td>2015</td>\n",
       "      <td>11315</td>\n",
       "      <td>48</td>\n",
       "      <td>48162</td>\n",
       "      <td>2015-03-07 21:30:00</td>\n",
       "      <td>10005</td>\n",
       "      <td>0.0</td>\n",
       "      <td>0.0</td>\n",
       "      <td>0.0</td>\n",
       "    </tr>\n",
       "    <tr>\n",
       "      <th>201</th>\n",
       "      <td>2015</td>\n",
       "      <td>10983</td>\n",
       "      <td>48</td>\n",
       "      <td>48022</td>\n",
       "      <td>2015-03-08 15:40:00</td>\n",
       "      <td>114600</td>\n",
       "      <td>0.0</td>\n",
       "      <td>0.0</td>\n",
       "      <td>0.0</td>\n",
       "    </tr>\n",
       "    <tr>\n",
       "      <th>212</th>\n",
       "      <td>2015</td>\n",
       "      <td>10961</td>\n",
       "      <td>48</td>\n",
       "      <td>48022</td>\n",
       "      <td>2015-03-09 13:02:00</td>\n",
       "      <td>138000</td>\n",
       "      <td>0.0</td>\n",
       "      <td>0.0</td>\n",
       "      <td>0.0</td>\n",
       "    </tr>\n",
       "    <tr>\n",
       "      <th>233</th>\n",
       "      <td>2015</td>\n",
       "      <td>10818</td>\n",
       "      <td>11</td>\n",
       "      <td>11097</td>\n",
       "      <td>2015-03-10 15:53:00</td>\n",
       "      <td>2000</td>\n",
       "      <td>0.0</td>\n",
       "      <td>0.0</td>\n",
       "      <td>0.0</td>\n",
       "    </tr>\n",
       "    <tr>\n",
       "      <th>...</th>\n",
       "      <td>...</td>\n",
       "      <td>...</td>\n",
       "      <td>...</td>\n",
       "      <td>...</td>\n",
       "      <td>...</td>\n",
       "      <td>...</td>\n",
       "      <td>...</td>\n",
       "      <td>...</td>\n",
       "      <td>...</td>\n",
       "    </tr>\n",
       "    <tr>\n",
       "      <th>22174</th>\n",
       "      <td>2022</td>\n",
       "      <td>2504</td>\n",
       "      <td>71</td>\n",
       "      <td>71492</td>\n",
       "      <td>2022-07-31 13:10:00</td>\n",
       "      <td>5000</td>\n",
       "      <td>5000.0</td>\n",
       "      <td>0.0</td>\n",
       "      <td>0.0</td>\n",
       "    </tr>\n",
       "    <tr>\n",
       "      <th>22237</th>\n",
       "      <td>2022</td>\n",
       "      <td>17749</td>\n",
       "      <td>05</td>\n",
       "      <td>05141</td>\n",
       "      <td>2022-08-02 09:23:00</td>\n",
       "      <td>13130</td>\n",
       "      <td>1100.0</td>\n",
       "      <td>0.0</td>\n",
       "      <td>11800.0</td>\n",
       "    </tr>\n",
       "    <tr>\n",
       "      <th>22361</th>\n",
       "      <td>2022</td>\n",
       "      <td>17967</td>\n",
       "      <td>48</td>\n",
       "      <td>48184</td>\n",
       "      <td>2022-08-04 15:45:00</td>\n",
       "      <td>90000</td>\n",
       "      <td>0.0</td>\n",
       "      <td>0.0</td>\n",
       "      <td>0.0</td>\n",
       "    </tr>\n",
       "    <tr>\n",
       "      <th>22702</th>\n",
       "      <td>2022</td>\n",
       "      <td>18092</td>\n",
       "      <td>48</td>\n",
       "      <td>48154</td>\n",
       "      <td>2022-08-10 14:13:00</td>\n",
       "      <td>150</td>\n",
       "      <td>0.0</td>\n",
       "      <td>0.0</td>\n",
       "      <td>0.0</td>\n",
       "    </tr>\n",
       "    <tr>\n",
       "      <th>23265</th>\n",
       "      <td>2022</td>\n",
       "      <td>19081</td>\n",
       "      <td>07</td>\n",
       "      <td>07256</td>\n",
       "      <td>2022-08-30 17:15:00</td>\n",
       "      <td>500</td>\n",
       "      <td>0.0</td>\n",
       "      <td>0.0</td>\n",
       "      <td>0.0</td>\n",
       "    </tr>\n",
       "  </tbody>\n",
       "</table>\n",
       "<p>190 rows × 9 columns</p>\n",
       "</div>"
      ],
      "text/plain": [
       "       annee  id_inc dep code_insee                date  surf_brulee  \\\n",
       "118     2015    6934  48      48122 2015-02-18 14:30:00        12500   \n",
       "189     2015   11315  48      48162 2015-03-07 21:30:00        10005   \n",
       "201     2015   10983  48      48022 2015-03-08 15:40:00       114600   \n",
       "212     2015   10961  48      48022 2015-03-09 13:02:00       138000   \n",
       "233     2015   10818  11      11097 2015-03-10 15:53:00         2000   \n",
       "...      ...     ...  ..        ...                 ...          ...   \n",
       "22174   2022    2504  71      71492 2022-07-31 13:10:00         5000   \n",
       "22237   2022   17749  05      05141 2022-08-02 09:23:00        13130   \n",
       "22361   2022   17967  48      48184 2022-08-04 15:45:00        90000   \n",
       "22702   2022   18092  48      48154 2022-08-10 14:13:00          150   \n",
       "23265   2022   19081  07      07256 2022-08-30 17:15:00          500   \n",
       "\n",
       "       surf_foret  surf_nb_naturelle  surf_nb_artificielle  \n",
       "118        6000.0                0.0                6500.0  \n",
       "189           0.0                0.0                   0.0  \n",
       "201           0.0                0.0                   0.0  \n",
       "212           0.0                0.0                   0.0  \n",
       "233           0.0                0.0                   0.0  \n",
       "...           ...                ...                   ...  \n",
       "22174      5000.0                0.0                   0.0  \n",
       "22237      1100.0                0.0               11800.0  \n",
       "22361         0.0                0.0                   0.0  \n",
       "22702         0.0                0.0                   0.0  \n",
       "23265         0.0                0.0                   0.0  \n",
       "\n",
       "[190 rows x 9 columns]"
      ]
     },
     "execution_count": 37,
     "metadata": {},
     "output_type": "execute_result"
    }
   ],
   "source": [
    "# Harmonisation des code_insee dans le dataset incendie\n",
    "incendie['code_insee'] = incendie['code_insee'].astype(str).str.zfill(5)\n",
    "\n",
    "# Affichage des communes non matchées\n",
    "incendie[~incendie['code_insee'].isin(coords['code_insee'])]\n"
   ]
  },
  {
   "cell_type": "code",
   "execution_count": 38,
   "id": "8ab4dc74",
   "metadata": {},
   "outputs": [
    {
     "data": {
      "text/plain": [
       "190"
      ]
     },
     "execution_count": 38,
     "metadata": {},
     "output_type": "execute_result"
    }
   ],
   "source": [
    "# Nombre de communes sans correspondance géographique\n",
    "len(incendie[~incendie.code_insee.isin(coords.code_insee)])"
   ]
  },
  {
   "cell_type": "code",
   "execution_count": 39,
   "id": "dc7ee061",
   "metadata": {},
   "outputs": [
    {
     "data": {
      "text/plain": [
       "2015"
      ]
     },
     "execution_count": 39,
     "metadata": {},
     "output_type": "execute_result"
    }
   ],
   "source": [
    "# Date de la première alerte\n",
    "incendie.date.dt.year.min()"
   ]
  },
  {
   "cell_type": "markdown",
   "id": "6e1d84ea",
   "metadata": {},
   "source": [
    "## Loading Data Forêt"
   ]
  },
  {
   "cell_type": "code",
   "execution_count": null,
   "id": "ca9cf3e2",
   "metadata": {},
   "outputs": [],
   "source": [
    "arbre = pd.read_csv(\"./Data/COUVERT.csv\", sep=\";\", low_memory=False)"
   ]
  },
  {
   "cell_type": "code",
   "execution_count": 44,
   "id": "7ff7a68c",
   "metadata": {},
   "outputs": [
    {
     "data": {
      "text/plain": [
       "((750822, 9),\n",
       " Index(['CAMPAGNE', 'IDP', 'STRATE', 'ESPAR_C', 'TCA', 'TCL', 'P1525', 'P7ARES',\n",
       "        'Unnamed: 8'],\n",
       "       dtype='object'))"
      ]
     },
     "execution_count": 44,
     "metadata": {},
     "output_type": "execute_result"
    }
   ],
   "source": [
    "arbre.shape, arbre.columns"
   ]
  },
  {
   "cell_type": "code",
   "execution_count": null,
   "id": "860fa185",
   "metadata": {},
   "outputs": [],
   "source": []
  }
 ],
 "metadata": {
  "kernelspec": {
   "display_name": "project_ml_env",
   "language": "python",
   "name": "python3"
  },
  "language_info": {
   "codemirror_mode": {
    "name": "ipython",
    "version": 3
   },
   "file_extension": ".py",
   "mimetype": "text/x-python",
   "name": "python",
   "nbconvert_exporter": "python",
   "pygments_lexer": "ipython3",
   "version": "3.8.19"
  }
 },
 "nbformat": 4,
 "nbformat_minor": 5
}
