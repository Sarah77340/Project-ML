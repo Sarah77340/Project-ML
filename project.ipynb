{
 "cells": [
  {
   "cell_type": "code",
   "execution_count": 1,
   "id": "6471e483",
   "metadata": {},
   "outputs": [],
   "source": [
    "%matplotlib inline\n",
    "import pandas as pd\n",
    "import geopandas as gpd\n",
    "import numpy as np\n",
    "import matplotlib.pyplot as plt\n",
    "import seaborn as sns\n",
    "import datetime as dt"
   ]
  },
  {
   "cell_type": "markdown",
   "id": "c735440a",
   "metadata": {},
   "source": [
    "## Loading Data Incendie\n"
   ]
  },
  {
   "cell_type": "code",
   "execution_count": 2,
   "id": "ad4900f0",
   "metadata": {},
   "outputs": [
    {
     "data": {
      "text/plain": [
       "(27785, 24)"
      ]
     },
     "execution_count": 2,
     "metadata": {},
     "output_type": "execute_result"
    }
   ],
   "source": [
    "df_incendie= pd.read_csv('./Data/Incendies.csv', sep=';', header=3)\n",
    "df_incendie.shape"
   ]
  },
  {
   "cell_type": "code",
   "execution_count": 3,
   "id": "762357f3",
   "metadata": {},
   "outputs": [
    {
     "data": {
      "text/plain": [
       "Index(['Année', 'Numéro', 'Département', 'Code INSEE', 'Nom de la commune',\n",
       "       'Date de première alerte', 'Surface parcourue (m2)',\n",
       "       'Surface forêt (m2)', 'Surface maquis garrigues (m2)',\n",
       "       'Autres surfaces naturelles hors forêt (m2)', 'Surfaces agricoles (m2)',\n",
       "       'Autres surfaces (m2)', 'Surface autres terres boisées (m2)',\n",
       "       'Surfaces non boisées naturelles (m2)',\n",
       "       'Surfaces non boisées artificialisées (m2)',\n",
       "       'Surfaces non boisées (m2)', 'Précision des surfaces',\n",
       "       'Type de peuplement', 'Nature', 'Décès ou bâtiments touchés',\n",
       "       'Nombre de décès', 'Nombre de bâtiments totalement détruits',\n",
       "       'Nombre de bâtiments partiellement détruits', 'Précision de la donnée'],\n",
       "      dtype='object')"
      ]
     },
     "execution_count": 3,
     "metadata": {},
     "output_type": "execute_result"
    }
   ],
   "source": [
    "df_incendie.columns"
   ]
  },
  {
   "cell_type": "code",
   "execution_count": 4,
   "id": "14747ca5",
   "metadata": {},
   "outputs": [],
   "source": [
    "df_incendie['Date de première alerte'] = pd.to_datetime(df_incendie['Date de première alerte'], errors='coerce')"
   ]
  },
  {
   "cell_type": "code",
   "execution_count": 5,
   "id": "b20a186a",
   "metadata": {},
   "outputs": [],
   "source": [
    "df_incendie['Code INSEE'] = df_incendie['Code INSEE'].astype(str).str.zfill(5)"
   ]
  },
  {
   "cell_type": "markdown",
   "id": "faf9de60",
   "metadata": {},
   "source": [
    "## Cleaning Data Incendie"
   ]
  },
  {
   "cell_type": "code",
   "execution_count": 6,
   "id": "994da919",
   "metadata": {},
   "outputs": [],
   "source": [
    "df_incendie.rename(columns={\n",
    "    'Code INSEE': 'code_insee',\n",
    "    'Date de première alerte': 'date',\n",
    "    'Surface parcourue (m2)': 'surf_brulee',\n",
    "    'Surface forêt (m2)': 'surf_foret',\n",
    "    'Surface maquis garrigues (m2)': 'surf_maquis',\n",
    "    'Autres surfaces naturelles hors forêt (m2)': 'surf_autres_naturelles',\n",
    "    'Surfaces agricoles (m2)': 'surf_agri',\n",
    "    'Autres surfaces (m2)': 'surf_autres',\n",
    "    'Surface autres terres boisées (m2)': 'surf_autres_bois',\n",
    "    'Surfaces non boisées naturelles (m2)': 'surf_nb_nat',\n",
    "    'Surfaces non boisées artificialisées (m2)': 'surf_nb_artif',\n",
    "    'Surfaces non boisées (m2)': 'surf_nb_totale',\n",
    "    'Type de peuplement': 'type_peuplement',\n",
    "    'Nature': 'cause'\n",
    "}, inplace=True)\n"
   ]
  },
  {
   "cell_type": "code",
   "execution_count": 7,
   "id": "c00f013b",
   "metadata": {},
   "outputs": [],
   "source": [
    "colonnes_surfaces = [col for col in df_incendie.columns if 'surf' in col]\n",
    "df_incendie[colonnes_surfaces] = df_incendie[colonnes_surfaces].fillna(0)"
   ]
  },
  {
   "cell_type": "code",
   "execution_count": 8,
   "id": "9ba4c90c",
   "metadata": {},
   "outputs": [
    {
     "data": {
      "text/html": [
       "<div>\n",
       "<style scoped>\n",
       "    .dataframe tbody tr th:only-of-type {\n",
       "        vertical-align: middle;\n",
       "    }\n",
       "\n",
       "    .dataframe tbody tr th {\n",
       "        vertical-align: top;\n",
       "    }\n",
       "\n",
       "    .dataframe thead th {\n",
       "        text-align: right;\n",
       "    }\n",
       "</style>\n",
       "<table border=\"1\" class=\"dataframe\">\n",
       "  <thead>\n",
       "    <tr style=\"text-align: right;\">\n",
       "      <th></th>\n",
       "      <th>Année</th>\n",
       "      <th>Numéro</th>\n",
       "      <th>Département</th>\n",
       "      <th>code_insee</th>\n",
       "      <th>Nom de la commune</th>\n",
       "      <th>date</th>\n",
       "      <th>surf_brulee</th>\n",
       "      <th>surf_foret</th>\n",
       "      <th>surf_maquis</th>\n",
       "      <th>surf_autres_naturelles</th>\n",
       "      <th>...</th>\n",
       "      <th>Précision des surfaces</th>\n",
       "      <th>type_peuplement</th>\n",
       "      <th>cause</th>\n",
       "      <th>Décès ou bâtiments touchés</th>\n",
       "      <th>Nombre de décès</th>\n",
       "      <th>Nombre de bâtiments totalement détruits</th>\n",
       "      <th>Nombre de bâtiments partiellement détruits</th>\n",
       "      <th>Précision de la donnée</th>\n",
       "      <th>surf_vegetale</th>\n",
       "      <th>ratio_vegetale</th>\n",
       "    </tr>\n",
       "  </thead>\n",
       "  <tbody>\n",
       "    <tr>\n",
       "      <th>0</th>\n",
       "      <td>2015</td>\n",
       "      <td>5769</td>\n",
       "      <td>66</td>\n",
       "      <td>66100</td>\n",
       "      <td>Llo</td>\n",
       "      <td>2015-01-01 00:09:00</td>\n",
       "      <td>5000</td>\n",
       "      <td>5000.0</td>\n",
       "      <td>0.0</td>\n",
       "      <td>0.0</td>\n",
       "      <td>...</td>\n",
       "      <td>0</td>\n",
       "      <td>4.0</td>\n",
       "      <td>Involontaire (particulier)</td>\n",
       "      <td>NaN</td>\n",
       "      <td>NaN</td>\n",
       "      <td>NaN</td>\n",
       "      <td>NaN</td>\n",
       "      <td>NaN</td>\n",
       "      <td>5000.0</td>\n",
       "      <td>1.0</td>\n",
       "    </tr>\n",
       "    <tr>\n",
       "      <th>1</th>\n",
       "      <td>2015</td>\n",
       "      <td>6760</td>\n",
       "      <td>07</td>\n",
       "      <td>07176</td>\n",
       "      <td>Planzolles</td>\n",
       "      <td>2015-01-01 13:13:00</td>\n",
       "      <td>10000</td>\n",
       "      <td>0.0</td>\n",
       "      <td>10000.0</td>\n",
       "      <td>0.0</td>\n",
       "      <td>...</td>\n",
       "      <td>0</td>\n",
       "      <td>1.0</td>\n",
       "      <td>Involontaire (particulier)</td>\n",
       "      <td>NaN</td>\n",
       "      <td>NaN</td>\n",
       "      <td>NaN</td>\n",
       "      <td>NaN</td>\n",
       "      <td>NaN</td>\n",
       "      <td>10000.0</td>\n",
       "      <td>1.0</td>\n",
       "    </tr>\n",
       "    <tr>\n",
       "      <th>2</th>\n",
       "      <td>2015</td>\n",
       "      <td>12057</td>\n",
       "      <td>2A</td>\n",
       "      <td>2A362</td>\n",
       "      <td>Zonza</td>\n",
       "      <td>2015-01-01 15:16:00</td>\n",
       "      <td>4000</td>\n",
       "      <td>0.0</td>\n",
       "      <td>4000.0</td>\n",
       "      <td>0.0</td>\n",
       "      <td>...</td>\n",
       "      <td>0</td>\n",
       "      <td>NaN</td>\n",
       "      <td>NaN</td>\n",
       "      <td>NaN</td>\n",
       "      <td>NaN</td>\n",
       "      <td>NaN</td>\n",
       "      <td>NaN</td>\n",
       "      <td>NaN</td>\n",
       "      <td>4000.0</td>\n",
       "      <td>1.0</td>\n",
       "    </tr>\n",
       "    <tr>\n",
       "      <th>3</th>\n",
       "      <td>2015</td>\n",
       "      <td>6978</td>\n",
       "      <td>34</td>\n",
       "      <td>34260</td>\n",
       "      <td>Saint-Gervais-sur-Mare</td>\n",
       "      <td>2015-01-02 14:13:00</td>\n",
       "      <td>6450</td>\n",
       "      <td>6450.0</td>\n",
       "      <td>0.0</td>\n",
       "      <td>0.0</td>\n",
       "      <td>...</td>\n",
       "      <td>0</td>\n",
       "      <td>3.0</td>\n",
       "      <td>Involontaire (travaux)</td>\n",
       "      <td>NaN</td>\n",
       "      <td>NaN</td>\n",
       "      <td>NaN</td>\n",
       "      <td>NaN</td>\n",
       "      <td>NaN</td>\n",
       "      <td>6450.0</td>\n",
       "      <td>1.0</td>\n",
       "    </tr>\n",
       "    <tr>\n",
       "      <th>4</th>\n",
       "      <td>2015</td>\n",
       "      <td>2</td>\n",
       "      <td>12</td>\n",
       "      <td>12270</td>\n",
       "      <td>Sévérac-le-Château</td>\n",
       "      <td>2015-01-02 19:19:00</td>\n",
       "      <td>50</td>\n",
       "      <td>0.0</td>\n",
       "      <td>0.0</td>\n",
       "      <td>50.0</td>\n",
       "      <td>...</td>\n",
       "      <td>Estimées</td>\n",
       "      <td>NaN</td>\n",
       "      <td>Involontaire (particulier)</td>\n",
       "      <td>NaN</td>\n",
       "      <td>NaN</td>\n",
       "      <td>NaN</td>\n",
       "      <td>NaN</td>\n",
       "      <td>NaN</td>\n",
       "      <td>50.0</td>\n",
       "      <td>1.0</td>\n",
       "    </tr>\n",
       "  </tbody>\n",
       "</table>\n",
       "<p>5 rows × 26 columns</p>\n",
       "</div>"
      ],
      "text/plain": [
       "   Année  Numéro Département code_insee       Nom de la commune  \\\n",
       "0   2015    5769          66      66100                     Llo   \n",
       "1   2015    6760          07      07176              Planzolles   \n",
       "2   2015   12057          2A      2A362                   Zonza   \n",
       "3   2015    6978          34      34260  Saint-Gervais-sur-Mare   \n",
       "4   2015       2          12      12270      Sévérac-le-Château   \n",
       "\n",
       "                 date  surf_brulee  surf_foret  surf_maquis  \\\n",
       "0 2015-01-01 00:09:00         5000      5000.0          0.0   \n",
       "1 2015-01-01 13:13:00        10000         0.0      10000.0   \n",
       "2 2015-01-01 15:16:00         4000         0.0       4000.0   \n",
       "3 2015-01-02 14:13:00         6450      6450.0          0.0   \n",
       "4 2015-01-02 19:19:00           50         0.0          0.0   \n",
       "\n",
       "   surf_autres_naturelles  ...  Précision des surfaces  type_peuplement  \\\n",
       "0                     0.0  ...                       0              4.0   \n",
       "1                     0.0  ...                       0              1.0   \n",
       "2                     0.0  ...                       0              NaN   \n",
       "3                     0.0  ...                       0              3.0   \n",
       "4                    50.0  ...                Estimées              NaN   \n",
       "\n",
       "                        cause  Décès ou bâtiments touchés  Nombre de décès  \\\n",
       "0  Involontaire (particulier)                         NaN              NaN   \n",
       "1  Involontaire (particulier)                         NaN              NaN   \n",
       "2                         NaN                         NaN              NaN   \n",
       "3      Involontaire (travaux)                         NaN              NaN   \n",
       "4  Involontaire (particulier)                         NaN              NaN   \n",
       "\n",
       "   Nombre de bâtiments totalement détruits  \\\n",
       "0                                      NaN   \n",
       "1                                      NaN   \n",
       "2                                      NaN   \n",
       "3                                      NaN   \n",
       "4                                      NaN   \n",
       "\n",
       "  Nombre de bâtiments partiellement détruits  Précision de la donnée  \\\n",
       "0                                        NaN                     NaN   \n",
       "1                                        NaN                     NaN   \n",
       "2                                        NaN                     NaN   \n",
       "3                                        NaN                     NaN   \n",
       "4                                        NaN                     NaN   \n",
       "\n",
       "  surf_vegetale ratio_vegetale  \n",
       "0        5000.0            1.0  \n",
       "1       10000.0            1.0  \n",
       "2        4000.0            1.0  \n",
       "3        6450.0            1.0  \n",
       "4          50.0            1.0  \n",
       "\n",
       "[5 rows x 26 columns]"
      ]
     },
     "execution_count": 8,
     "metadata": {},
     "output_type": "execute_result"
    }
   ],
   "source": [
    "# Surface végétale potentielle (forêt + maquis + autres terres boisées)\n",
    "df_incendie['surf_vegetale'] = (\n",
    "    df_incendie['surf_foret'] +\n",
    "    df_incendie['surf_maquis'] +\n",
    "    df_incendie['surf_autres_bois']\n",
    ")\n",
    "\n",
    "# Ratio de végétation par rapport à la surface brûlée\n",
    "df_incendie['ratio_vegetale'] = df_incendie['surf_vegetale'] / df_incendie['surf_brulee'].replace(0, 1)\n",
    "\n",
    "df_incendie.head()\n"
   ]
  },
  {
   "cell_type": "markdown",
   "id": "0b7b630a",
   "metadata": {},
   "source": [
    "## Loading Data Meteo"
   ]
  },
  {
   "cell_type": "code",
   "execution_count": 9,
   "id": "f0362e1e",
   "metadata": {},
   "outputs": [
    {
     "data": {
      "text/plain": [
       "(14811, 60)"
      ]
     },
     "execution_count": 9,
     "metadata": {},
     "output_type": "execute_result"
    }
   ],
   "source": [
    "df_meteo = pd.read_csv('Data/meteo.csv', sep=';')\n",
    "df_meteo.shape"
   ]
  },
  {
   "cell_type": "code",
   "execution_count": 10,
   "id": "0d74c153",
   "metadata": {},
   "outputs": [
    {
     "data": {
      "text/plain": [
       "Index(['numer_sta', 'date', 'pmer', 'tend', 'cod_tend', 'dd', 'ff', 't', 'td',\n",
       "       'u', 'vv', 'ww', 'w1', 'w2', 'n', 'nbas', 'hbas', 'cl', 'cm', 'ch',\n",
       "       'pres', 'niv_bar', 'geop', 'tend24', 'tn12', 'tn24', 'tx12', 'tx24',\n",
       "       'tminsol', 'sw', 'tw', 'raf10', 'rafper', 'per', 'etat_sol', 'ht_neige',\n",
       "       'ssfrai', 'perssfrai', 'rr1', 'rr3', 'rr6', 'rr12', 'rr24', 'phenspe1',\n",
       "       'phenspe2', 'phenspe3', 'phenspe4', 'nnuage1', 'ctype1', 'hnuage1',\n",
       "       'nnuage2', 'ctype2', 'hnuage2', 'nnuage3', 'ctype3', 'hnuage3',\n",
       "       'nnuage4', 'ctype4', 'hnuage4', 'Unnamed: 59'],\n",
       "      dtype='object')"
      ]
     },
     "execution_count": 10,
     "metadata": {},
     "output_type": "execute_result"
    }
   ],
   "source": [
    "df_meteo.columns"
   ]
  },
  {
   "cell_type": "code",
   "execution_count": 11,
   "id": "7f65ff4d",
   "metadata": {},
   "outputs": [
    {
     "data": {
      "text/html": [
       "<div>\n",
       "<style scoped>\n",
       "    .dataframe tbody tr th:only-of-type {\n",
       "        vertical-align: middle;\n",
       "    }\n",
       "\n",
       "    .dataframe tbody tr th {\n",
       "        vertical-align: top;\n",
       "    }\n",
       "\n",
       "    .dataframe thead th {\n",
       "        text-align: right;\n",
       "    }\n",
       "</style>\n",
       "<table border=\"1\" class=\"dataframe\">\n",
       "  <thead>\n",
       "    <tr style=\"text-align: right;\">\n",
       "      <th></th>\n",
       "      <th>numer_sta</th>\n",
       "      <th>date</th>\n",
       "      <th>ff</th>\n",
       "      <th>raf10</th>\n",
       "      <th>t</th>\n",
       "      <th>u</th>\n",
       "      <th>rr24</th>\n",
       "    </tr>\n",
       "  </thead>\n",
       "  <tbody>\n",
       "    <tr>\n",
       "      <th>0</th>\n",
       "      <td>7005</td>\n",
       "      <td>2015-01-01</td>\n",
       "      <td>2.8</td>\n",
       "      <td>3.6</td>\n",
       "      <td>272.55</td>\n",
       "      <td>89.0</td>\n",
       "      <td>0.0</td>\n",
       "    </tr>\n",
       "    <tr>\n",
       "      <th>1</th>\n",
       "      <td>7015</td>\n",
       "      <td>2015-01-01</td>\n",
       "      <td>2.4</td>\n",
       "      <td>3.0</td>\n",
       "      <td>272.85</td>\n",
       "      <td>100.0</td>\n",
       "      <td>0.0</td>\n",
       "    </tr>\n",
       "    <tr>\n",
       "      <th>2</th>\n",
       "      <td>7020</td>\n",
       "      <td>2015-01-01</td>\n",
       "      <td>10.8</td>\n",
       "      <td>15.1</td>\n",
       "      <td>279.95</td>\n",
       "      <td>88.0</td>\n",
       "      <td>0.0</td>\n",
       "    </tr>\n",
       "    <tr>\n",
       "      <th>3</th>\n",
       "      <td>7027</td>\n",
       "      <td>2015-01-01</td>\n",
       "      <td>2.8</td>\n",
       "      <td>3.4</td>\n",
       "      <td>270.65</td>\n",
       "      <td>92.0</td>\n",
       "      <td>0.0</td>\n",
       "    </tr>\n",
       "    <tr>\n",
       "      <th>4</th>\n",
       "      <td>7037</td>\n",
       "      <td>2015-01-01</td>\n",
       "      <td>1.3</td>\n",
       "      <td>1.9</td>\n",
       "      <td>270.65</td>\n",
       "      <td>95.0</td>\n",
       "      <td>0.0</td>\n",
       "    </tr>\n",
       "  </tbody>\n",
       "</table>\n",
       "</div>"
      ],
      "text/plain": [
       "   numer_sta       date    ff  raf10       t      u  rr24\n",
       "0       7005 2015-01-01   2.8    3.6  272.55   89.0   0.0\n",
       "1       7015 2015-01-01   2.4    3.0  272.85  100.0   0.0\n",
       "2       7020 2015-01-01  10.8   15.1  279.95   88.0   0.0\n",
       "3       7027 2015-01-01   2.8    3.4  270.65   92.0   0.0\n",
       "4       7037 2015-01-01   1.3    1.9  270.65   95.0   0.0"
      ]
     },
     "execution_count": 11,
     "metadata": {},
     "output_type": "execute_result"
    }
   ],
   "source": [
    "# Sélection des colonnes utiles\n",
    "df_meteo = df_meteo[['numer_sta', 'date', 'ff', 'raf10', 't', 'u', 'rr24']]\n",
    "\n",
    "df_meteo['date'] = pd.to_datetime(df_meteo['date'].astype(str), format='%Y%m%d%H%M%S', errors='coerce')\n",
    "\n",
    "cols_meteo = ['ff', 'raf10', 't', 'u', 'rr24']\n",
    "\n",
    "# Remplacer 'mq' par NaN, puis convertir proprement en float\n",
    "for col in cols_meteo:\n",
    "    df_meteo[col] = pd.to_numeric(df_meteo[col].replace('mq', pd.NA), errors='coerce')\n",
    "    \n",
    "df_meteo.head()"
   ]
  },
  {
   "cell_type": "code",
   "execution_count": 12,
   "id": "70739911",
   "metadata": {},
   "outputs": [
    {
     "data": {
      "text/html": [
       "<div>\n",
       "<style scoped>\n",
       "    .dataframe tbody tr th:only-of-type {\n",
       "        vertical-align: middle;\n",
       "    }\n",
       "\n",
       "    .dataframe tbody tr th {\n",
       "        vertical-align: top;\n",
       "    }\n",
       "\n",
       "    .dataframe thead th {\n",
       "        text-align: right;\n",
       "    }\n",
       "</style>\n",
       "<table border=\"1\" class=\"dataframe\">\n",
       "  <thead>\n",
       "    <tr style=\"text-align: right;\">\n",
       "      <th></th>\n",
       "      <th>numer_sta</th>\n",
       "      <th>date</th>\n",
       "      <th>ff</th>\n",
       "      <th>raf10</th>\n",
       "      <th>t</th>\n",
       "      <th>u</th>\n",
       "      <th>rr24</th>\n",
       "    </tr>\n",
       "  </thead>\n",
       "  <tbody>\n",
       "    <tr>\n",
       "      <th>0</th>\n",
       "      <td>7005</td>\n",
       "      <td>2015-01-01</td>\n",
       "      <td>2.8</td>\n",
       "      <td>3.6</td>\n",
       "      <td>272.55</td>\n",
       "      <td>89.0</td>\n",
       "      <td>0.0</td>\n",
       "    </tr>\n",
       "    <tr>\n",
       "      <th>1</th>\n",
       "      <td>7015</td>\n",
       "      <td>2015-01-01</td>\n",
       "      <td>2.4</td>\n",
       "      <td>3.0</td>\n",
       "      <td>272.85</td>\n",
       "      <td>100.0</td>\n",
       "      <td>0.0</td>\n",
       "    </tr>\n",
       "    <tr>\n",
       "      <th>2</th>\n",
       "      <td>7020</td>\n",
       "      <td>2015-01-01</td>\n",
       "      <td>10.8</td>\n",
       "      <td>15.1</td>\n",
       "      <td>279.95</td>\n",
       "      <td>88.0</td>\n",
       "      <td>0.0</td>\n",
       "    </tr>\n",
       "    <tr>\n",
       "      <th>3</th>\n",
       "      <td>7027</td>\n",
       "      <td>2015-01-01</td>\n",
       "      <td>2.8</td>\n",
       "      <td>3.4</td>\n",
       "      <td>270.65</td>\n",
       "      <td>92.0</td>\n",
       "      <td>0.0</td>\n",
       "    </tr>\n",
       "    <tr>\n",
       "      <th>4</th>\n",
       "      <td>7037</td>\n",
       "      <td>2015-01-01</td>\n",
       "      <td>1.3</td>\n",
       "      <td>1.9</td>\n",
       "      <td>270.65</td>\n",
       "      <td>95.0</td>\n",
       "      <td>0.0</td>\n",
       "    </tr>\n",
       "  </tbody>\n",
       "</table>\n",
       "</div>"
      ],
      "text/plain": [
       "   numer_sta       date    ff  raf10       t      u  rr24\n",
       "0       7005 2015-01-01   2.8    3.6  272.55   89.0   0.0\n",
       "1       7015 2015-01-01   2.4    3.0  272.85  100.0   0.0\n",
       "2       7020 2015-01-01  10.8   15.1  279.95   88.0   0.0\n",
       "3       7027 2015-01-01   2.8    3.4  270.65   92.0   0.0\n",
       "4       7037 2015-01-01   1.3    1.9  270.65   95.0   0.0"
      ]
     },
     "execution_count": 12,
     "metadata": {},
     "output_type": "execute_result"
    }
   ],
   "source": [
    "# Pour température et humidité → remplacement simple\n",
    "df_meteo['t'].fillna(df_meteo['t'].mean(), inplace=True)\n",
    "df_meteo['u'].fillna(df_meteo['u'].mean(), inplace=True)\n",
    "\n",
    "# Pour vitesse du vent (ff) → très peu de NaNs → suppression\n",
    "df_meteo = df_meteo[df_meteo['ff'].notna()]\n",
    "\n",
    "# Pour rafale (raf10) et pluie (rr24) → remplissage conservatif par 0\n",
    "df_meteo['raf10'].fillna(0, inplace=True)\n",
    "df_meteo['rr24'].fillna(0, inplace=True)\n",
    "\n",
    "df_meteo.head()"
   ]
  },
  {
   "cell_type": "code",
   "execution_count": 13,
   "id": "b31c3fe0",
   "metadata": {},
   "outputs": [
    {
     "data": {
      "text/plain": [
       "<bound method DataFrame.info of        numer_sta                date    ff  raf10       t      u  rr24\n",
       "0           7005 2015-01-01 00:00:00   2.8    3.6  272.55   89.0   0.0\n",
       "1           7015 2015-01-01 00:00:00   2.4    3.0  272.85  100.0   0.0\n",
       "2           7020 2015-01-01 00:00:00  10.8   15.1  279.95   88.0   0.0\n",
       "3           7027 2015-01-01 00:00:00   2.8    3.4  270.65   92.0   0.0\n",
       "4           7037 2015-01-01 00:00:00   1.3    1.9  270.65   95.0   0.0\n",
       "...          ...                 ...   ...    ...     ...    ...   ...\n",
       "14806      81401 2015-01-31 21:00:00   3.1    6.1  299.95   79.0   0.8\n",
       "14807      81405 2015-01-31 21:00:00   5.8    8.2  300.65   77.0   2.8\n",
       "14808      81408 2015-01-31 21:00:00   2.0    4.1  300.55   80.0  11.0\n",
       "14809      81415 2015-01-31 21:00:00   0.6    1.9  298.75   91.0   2.8\n",
       "14810      89642 2015-01-31 21:00:00   6.7    0.0  267.56   56.0   0.0\n",
       "\n",
       "[14690 rows x 7 columns]>"
      ]
     },
     "execution_count": 13,
     "metadata": {},
     "output_type": "execute_result"
    }
   ],
   "source": [
    "df_meteo.info"
   ]
  },
  {
   "cell_type": "markdown",
   "id": "65726242",
   "metadata": {},
   "source": [
    "## Loading Data Station_meteo"
   ]
  },
  {
   "cell_type": "code",
   "execution_count": 14,
   "id": "4db29b16",
   "metadata": {},
   "outputs": [
    {
     "data": {
      "text/html": [
       "<div>\n",
       "<style scoped>\n",
       "    .dataframe tbody tr th:only-of-type {\n",
       "        vertical-align: middle;\n",
       "    }\n",
       "\n",
       "    .dataframe tbody tr th {\n",
       "        vertical-align: top;\n",
       "    }\n",
       "\n",
       "    .dataframe thead th {\n",
       "        text-align: right;\n",
       "    }\n",
       "</style>\n",
       "<table border=\"1\" class=\"dataframe\">\n",
       "  <thead>\n",
       "    <tr style=\"text-align: right;\">\n",
       "      <th></th>\n",
       "      <th>ID</th>\n",
       "      <th>Nom</th>\n",
       "      <th>Latitude</th>\n",
       "      <th>Longitude</th>\n",
       "      <th>Altitude</th>\n",
       "    </tr>\n",
       "  </thead>\n",
       "  <tbody>\n",
       "    <tr>\n",
       "      <th>0</th>\n",
       "      <td>7005</td>\n",
       "      <td>ABBEVILLE</td>\n",
       "      <td>50.136000</td>\n",
       "      <td>1.834000</td>\n",
       "      <td>69</td>\n",
       "    </tr>\n",
       "    <tr>\n",
       "      <th>1</th>\n",
       "      <td>7015</td>\n",
       "      <td>LILLE-LESQUIN</td>\n",
       "      <td>50.570000</td>\n",
       "      <td>3.097500</td>\n",
       "      <td>47</td>\n",
       "    </tr>\n",
       "    <tr>\n",
       "      <th>2</th>\n",
       "      <td>7020</td>\n",
       "      <td>PTE DE LA HAGUE</td>\n",
       "      <td>49.725167</td>\n",
       "      <td>-1.939833</td>\n",
       "      <td>6</td>\n",
       "    </tr>\n",
       "    <tr>\n",
       "      <th>3</th>\n",
       "      <td>7027</td>\n",
       "      <td>CAEN-CARPIQUET</td>\n",
       "      <td>49.180000</td>\n",
       "      <td>-0.456167</td>\n",
       "      <td>67</td>\n",
       "    </tr>\n",
       "    <tr>\n",
       "      <th>4</th>\n",
       "      <td>7037</td>\n",
       "      <td>ROUEN-BOOS</td>\n",
       "      <td>49.383000</td>\n",
       "      <td>1.181667</td>\n",
       "      <td>151</td>\n",
       "    </tr>\n",
       "  </tbody>\n",
       "</table>\n",
       "</div>"
      ],
      "text/plain": [
       "     ID              Nom   Latitude  Longitude  Altitude\n",
       "0  7005        ABBEVILLE  50.136000   1.834000        69\n",
       "1  7015    LILLE-LESQUIN  50.570000   3.097500        47\n",
       "2  7020  PTE DE LA HAGUE  49.725167  -1.939833         6\n",
       "3  7027   CAEN-CARPIQUET  49.180000  -0.456167        67\n",
       "4  7037       ROUEN-BOOS  49.383000   1.181667       151"
      ]
     },
     "execution_count": 14,
     "metadata": {},
     "output_type": "execute_result"
    }
   ],
   "source": [
    "stations = pd.read_csv(\"./Data/meteo_station.txt\", sep=';', encoding='utf-8')\n",
    "stations.head()"
   ]
  },
  {
   "cell_type": "code",
   "execution_count": 15,
   "id": "84bd32e3",
   "metadata": {},
   "outputs": [
    {
     "data": {
      "text/html": [
       "<div>\n",
       "<style scoped>\n",
       "    .dataframe tbody tr th:only-of-type {\n",
       "        vertical-align: middle;\n",
       "    }\n",
       "\n",
       "    .dataframe tbody tr th {\n",
       "        vertical-align: top;\n",
       "    }\n",
       "\n",
       "    .dataframe thead th {\n",
       "        text-align: right;\n",
       "    }\n",
       "</style>\n",
       "<table border=\"1\" class=\"dataframe\">\n",
       "  <thead>\n",
       "    <tr style=\"text-align: right;\">\n",
       "      <th></th>\n",
       "      <th>numer_sta</th>\n",
       "      <th>nom_station</th>\n",
       "      <th>latitude</th>\n",
       "      <th>longitude</th>\n",
       "      <th>Altitude</th>\n",
       "      <th>geometry</th>\n",
       "    </tr>\n",
       "  </thead>\n",
       "  <tbody>\n",
       "    <tr>\n",
       "      <th>0</th>\n",
       "      <td>7005</td>\n",
       "      <td>ABBEVILLE</td>\n",
       "      <td>50.136000</td>\n",
       "      <td>1.834000</td>\n",
       "      <td>69</td>\n",
       "      <td>POINT (1.83400 50.13600)</td>\n",
       "    </tr>\n",
       "    <tr>\n",
       "      <th>1</th>\n",
       "      <td>7015</td>\n",
       "      <td>LILLE-LESQUIN</td>\n",
       "      <td>50.570000</td>\n",
       "      <td>3.097500</td>\n",
       "      <td>47</td>\n",
       "      <td>POINT (3.09750 50.57000)</td>\n",
       "    </tr>\n",
       "    <tr>\n",
       "      <th>2</th>\n",
       "      <td>7020</td>\n",
       "      <td>PTE DE LA HAGUE</td>\n",
       "      <td>49.725167</td>\n",
       "      <td>-1.939833</td>\n",
       "      <td>6</td>\n",
       "      <td>POINT (-1.93983 49.72517)</td>\n",
       "    </tr>\n",
       "    <tr>\n",
       "      <th>3</th>\n",
       "      <td>7027</td>\n",
       "      <td>CAEN-CARPIQUET</td>\n",
       "      <td>49.180000</td>\n",
       "      <td>-0.456167</td>\n",
       "      <td>67</td>\n",
       "      <td>POINT (-0.45617 49.18000)</td>\n",
       "    </tr>\n",
       "    <tr>\n",
       "      <th>4</th>\n",
       "      <td>7037</td>\n",
       "      <td>ROUEN-BOOS</td>\n",
       "      <td>49.383000</td>\n",
       "      <td>1.181667</td>\n",
       "      <td>151</td>\n",
       "      <td>POINT (1.18167 49.38300)</td>\n",
       "    </tr>\n",
       "  </tbody>\n",
       "</table>\n",
       "</div>"
      ],
      "text/plain": [
       "   numer_sta      nom_station   latitude  longitude  Altitude  \\\n",
       "0       7005        ABBEVILLE  50.136000   1.834000        69   \n",
       "1       7015    LILLE-LESQUIN  50.570000   3.097500        47   \n",
       "2       7020  PTE DE LA HAGUE  49.725167  -1.939833         6   \n",
       "3       7027   CAEN-CARPIQUET  49.180000  -0.456167        67   \n",
       "4       7037       ROUEN-BOOS  49.383000   1.181667       151   \n",
       "\n",
       "                    geometry  \n",
       "0   POINT (1.83400 50.13600)  \n",
       "1   POINT (3.09750 50.57000)  \n",
       "2  POINT (-1.93983 49.72517)  \n",
       "3  POINT (-0.45617 49.18000)  \n",
       "4   POINT (1.18167 49.38300)  "
      ]
     },
     "execution_count": 15,
     "metadata": {},
     "output_type": "execute_result"
    }
   ],
   "source": [
    "# 1. Nettoyage et renommage\n",
    "df_stations = stations.copy()\n",
    "df_stations.rename(columns={\n",
    "    'ID': 'numer_sta',\n",
    "    'Nom': 'nom_station',\n",
    "    'Latitude': 'latitude',\n",
    "    'Longitude': 'longitude'\n",
    "}, inplace=True)\n",
    "\n",
    "# 2. Création de la géométrie (EPSG:4326 = WGS84)\n",
    "geometry = gpd.points_from_xy(df_stations['longitude'], df_stations['latitude'])\n",
    "df_stations = gpd.GeoDataFrame(df_stations, geometry=geometry, crs='epsg:4326')\n",
    "\n",
    "# Aperçu\n",
    "df_stations.head()"
   ]
  },
  {
   "cell_type": "code",
   "execution_count": 16,
   "id": "4aee8ecd",
   "metadata": {},
   "outputs": [
    {
     "data": {
      "text/html": [
       "<div>\n",
       "<style scoped>\n",
       "    .dataframe tbody tr th:only-of-type {\n",
       "        vertical-align: middle;\n",
       "    }\n",
       "\n",
       "    .dataframe tbody tr th {\n",
       "        vertical-align: top;\n",
       "    }\n",
       "\n",
       "    .dataframe thead th {\n",
       "        text-align: right;\n",
       "    }\n",
       "</style>\n",
       "<table border=\"1\" class=\"dataframe\">\n",
       "  <thead>\n",
       "    <tr style=\"text-align: right;\">\n",
       "      <th></th>\n",
       "      <th>numer_sta</th>\n",
       "      <th>date</th>\n",
       "      <th>ff</th>\n",
       "      <th>raf10</th>\n",
       "      <th>t</th>\n",
       "      <th>u</th>\n",
       "      <th>rr24</th>\n",
       "      <th>nom_station</th>\n",
       "      <th>geometry</th>\n",
       "    </tr>\n",
       "  </thead>\n",
       "  <tbody>\n",
       "    <tr>\n",
       "      <th>14685</th>\n",
       "      <td>81401</td>\n",
       "      <td>2015-01-31 21:00:00</td>\n",
       "      <td>3.1</td>\n",
       "      <td>6.1</td>\n",
       "      <td>299.95</td>\n",
       "      <td>79.0</td>\n",
       "      <td>0.8</td>\n",
       "      <td>SAINT LAURENT</td>\n",
       "      <td>POINT (-54.03167 5.48550)</td>\n",
       "    </tr>\n",
       "    <tr>\n",
       "      <th>14686</th>\n",
       "      <td>81405</td>\n",
       "      <td>2015-01-31 21:00:00</td>\n",
       "      <td>5.8</td>\n",
       "      <td>8.2</td>\n",
       "      <td>300.65</td>\n",
       "      <td>77.0</td>\n",
       "      <td>2.8</td>\n",
       "      <td>CAYENNE-MATOURY</td>\n",
       "      <td>POINT (-52.36533 4.82233)</td>\n",
       "    </tr>\n",
       "    <tr>\n",
       "      <th>14687</th>\n",
       "      <td>81408</td>\n",
       "      <td>2015-01-31 21:00:00</td>\n",
       "      <td>2.0</td>\n",
       "      <td>4.1</td>\n",
       "      <td>300.55</td>\n",
       "      <td>80.0</td>\n",
       "      <td>11.0</td>\n",
       "      <td>SAINT GEORGES</td>\n",
       "      <td>POINT (-51.80467 3.89067)</td>\n",
       "    </tr>\n",
       "    <tr>\n",
       "      <th>14688</th>\n",
       "      <td>81415</td>\n",
       "      <td>2015-01-31 21:00:00</td>\n",
       "      <td>0.6</td>\n",
       "      <td>1.9</td>\n",
       "      <td>298.75</td>\n",
       "      <td>91.0</td>\n",
       "      <td>2.8</td>\n",
       "      <td>MARIPASOULA</td>\n",
       "      <td>POINT (-54.02833 3.64017)</td>\n",
       "    </tr>\n",
       "    <tr>\n",
       "      <th>14689</th>\n",
       "      <td>89642</td>\n",
       "      <td>2015-01-31 21:00:00</td>\n",
       "      <td>6.7</td>\n",
       "      <td>0.0</td>\n",
       "      <td>267.56</td>\n",
       "      <td>56.0</td>\n",
       "      <td>0.0</td>\n",
       "      <td>DUMONT D'URVILLE</td>\n",
       "      <td>POINT (140.00100 -66.66317)</td>\n",
       "    </tr>\n",
       "  </tbody>\n",
       "</table>\n",
       "</div>"
      ],
      "text/plain": [
       "       numer_sta                date   ff  raf10       t     u  rr24  \\\n",
       "14685      81401 2015-01-31 21:00:00  3.1    6.1  299.95  79.0   0.8   \n",
       "14686      81405 2015-01-31 21:00:00  5.8    8.2  300.65  77.0   2.8   \n",
       "14687      81408 2015-01-31 21:00:00  2.0    4.1  300.55  80.0  11.0   \n",
       "14688      81415 2015-01-31 21:00:00  0.6    1.9  298.75  91.0   2.8   \n",
       "14689      89642 2015-01-31 21:00:00  6.7    0.0  267.56  56.0   0.0   \n",
       "\n",
       "            nom_station                     geometry  \n",
       "14685     SAINT LAURENT    POINT (-54.03167 5.48550)  \n",
       "14686   CAYENNE-MATOURY    POINT (-52.36533 4.82233)  \n",
       "14687     SAINT GEORGES    POINT (-51.80467 3.89067)  \n",
       "14688       MARIPASOULA    POINT (-54.02833 3.64017)  \n",
       "14689  DUMONT D'URVILLE  POINT (140.00100 -66.66317)  "
      ]
     },
     "execution_count": 16,
     "metadata": {},
     "output_type": "execute_result"
    }
   ],
   "source": [
    "df_meteo = df_meteo.merge(\n",
    "    df_stations[['numer_sta', 'nom_station', 'geometry']],\n",
    "    on='numer_sta',\n",
    "    how='left'\n",
    ")\n",
    "\n",
    "df_meteo.tail()"
   ]
  },
  {
   "cell_type": "markdown",
   "id": "ce144a4f",
   "metadata": {},
   "source": [
    "## Loading Data Communes"
   ]
  },
  {
   "cell_type": "code",
   "execution_count": 17,
   "id": "665a9806",
   "metadata": {},
   "outputs": [
    {
     "name": "stdout",
     "output_type": "stream",
     "text": [
      "Index(['ID', 'NOM', 'NOM_M', 'INSEE_COM', 'STATUT', 'POPULATION', 'INSEE_CAN',\n",
      "       'INSEE_ARR', 'INSEE_DEP', 'INSEE_REG', 'SIREN_EPCI', 'geometry'],\n",
      "      dtype='object')\n"
     ]
    },
    {
     "data": {
      "text/html": [
       "<div>\n",
       "<style scoped>\n",
       "    .dataframe tbody tr th:only-of-type {\n",
       "        vertical-align: middle;\n",
       "    }\n",
       "\n",
       "    .dataframe tbody tr th {\n",
       "        vertical-align: top;\n",
       "    }\n",
       "\n",
       "    .dataframe thead th {\n",
       "        text-align: right;\n",
       "    }\n",
       "</style>\n",
       "<table border=\"1\" class=\"dataframe\">\n",
       "  <thead>\n",
       "    <tr style=\"text-align: right;\">\n",
       "      <th></th>\n",
       "      <th>ID</th>\n",
       "      <th>NOM</th>\n",
       "      <th>NOM_M</th>\n",
       "      <th>INSEE_COM</th>\n",
       "      <th>STATUT</th>\n",
       "      <th>POPULATION</th>\n",
       "      <th>INSEE_CAN</th>\n",
       "      <th>INSEE_ARR</th>\n",
       "      <th>INSEE_DEP</th>\n",
       "      <th>INSEE_REG</th>\n",
       "      <th>SIREN_EPCI</th>\n",
       "      <th>geometry</th>\n",
       "    </tr>\n",
       "  </thead>\n",
       "  <tbody>\n",
       "    <tr>\n",
       "      <th>0</th>\n",
       "      <td>COMMUNE_0000000009738132</td>\n",
       "      <td>Guerlesquin</td>\n",
       "      <td>GUERLESQUIN</td>\n",
       "      <td>29067</td>\n",
       "      <td>Commune simple</td>\n",
       "      <td>1273</td>\n",
       "      <td>20</td>\n",
       "      <td>3</td>\n",
       "      <td>29</td>\n",
       "      <td>53</td>\n",
       "      <td>242900835</td>\n",
       "      <td>POLYGON ((-3.59931 48.55848, -3.59910 48.55800...</td>\n",
       "    </tr>\n",
       "    <tr>\n",
       "      <th>1</th>\n",
       "      <td>COMMUNE_0000000009754553</td>\n",
       "      <td>Saint-Astier</td>\n",
       "      <td>SAINT-ASTIER</td>\n",
       "      <td>24372</td>\n",
       "      <td>Commune simple</td>\n",
       "      <td>5320</td>\n",
       "      <td>17</td>\n",
       "      <td>3</td>\n",
       "      <td>24</td>\n",
       "      <td>75</td>\n",
       "      <td>200040095</td>\n",
       "      <td>POLYGON ((0.46243 45.15564, 0.46239 45.15582, ...</td>\n",
       "    </tr>\n",
       "    <tr>\n",
       "      <th>2</th>\n",
       "      <td>COMMUNE_0000000009729885</td>\n",
       "      <td>Balan</td>\n",
       "      <td>BALAN</td>\n",
       "      <td>08043</td>\n",
       "      <td>Commune simple</td>\n",
       "      <td>1612</td>\n",
       "      <td>16</td>\n",
       "      <td>3</td>\n",
       "      <td>08</td>\n",
       "      <td>44</td>\n",
       "      <td>200041630</td>\n",
       "      <td>POLYGON ((4.95473 49.67238, 4.95432 49.67251, ...</td>\n",
       "    </tr>\n",
       "    <tr>\n",
       "      <th>3</th>\n",
       "      <td>COMMUNE_0000000009744647</td>\n",
       "      <td>Vallons-de-l'Erdre</td>\n",
       "      <td>VALLONS-DE-L'ERDRE</td>\n",
       "      <td>44180</td>\n",
       "      <td>Commune simple</td>\n",
       "      <td>6559</td>\n",
       "      <td>01</td>\n",
       "      <td>5</td>\n",
       "      <td>44</td>\n",
       "      <td>52</td>\n",
       "      <td>244400552</td>\n",
       "      <td>POLYGON ((-1.03906 47.54917, -1.03896 47.54892...</td>\n",
       "    </tr>\n",
       "    <tr>\n",
       "      <th>4</th>\n",
       "      <td>COMMUNE_0000000009745513</td>\n",
       "      <td>Loireauxence</td>\n",
       "      <td>LOIREAUXENCE</td>\n",
       "      <td>44213</td>\n",
       "      <td>Commune simple</td>\n",
       "      <td>7517</td>\n",
       "      <td>01</td>\n",
       "      <td>5</td>\n",
       "      <td>44</td>\n",
       "      <td>52</td>\n",
       "      <td>244400552</td>\n",
       "      <td>POLYGON ((-1.07254 47.50173, -1.07199 47.50199...</td>\n",
       "    </tr>\n",
       "  </tbody>\n",
       "</table>\n",
       "</div>"
      ],
      "text/plain": [
       "                         ID                 NOM               NOM_M INSEE_COM  \\\n",
       "0  COMMUNE_0000000009738132         Guerlesquin         GUERLESQUIN     29067   \n",
       "1  COMMUNE_0000000009754553        Saint-Astier        SAINT-ASTIER     24372   \n",
       "2  COMMUNE_0000000009729885               Balan               BALAN     08043   \n",
       "3  COMMUNE_0000000009744647  Vallons-de-l'Erdre  VALLONS-DE-L'ERDRE     44180   \n",
       "4  COMMUNE_0000000009745513        Loireauxence        LOIREAUXENCE     44213   \n",
       "\n",
       "           STATUT  POPULATION INSEE_CAN INSEE_ARR INSEE_DEP INSEE_REG  \\\n",
       "0  Commune simple        1273        20         3        29        53   \n",
       "1  Commune simple        5320        17         3        24        75   \n",
       "2  Commune simple        1612        16         3        08        44   \n",
       "3  Commune simple        6559        01         5        44        52   \n",
       "4  Commune simple        7517        01         5        44        52   \n",
       "\n",
       "  SIREN_EPCI                                           geometry  \n",
       "0  242900835  POLYGON ((-3.59931 48.55848, -3.59910 48.55800...  \n",
       "1  200040095  POLYGON ((0.46243 45.15564, 0.46239 45.15582, ...  \n",
       "2  200041630  POLYGON ((4.95473 49.67238, 4.95432 49.67251, ...  \n",
       "3  244400552  POLYGON ((-1.03906 47.54917, -1.03896 47.54892...  \n",
       "4  244400552  POLYGON ((-1.07254 47.50173, -1.07199 47.50199...  "
      ]
     },
     "execution_count": 17,
     "metadata": {},
     "output_type": "execute_result"
    }
   ],
   "source": [
    "df_commune = gpd.read_file('./Data/commune.shp')  \n",
    "\n",
    "print(df_commune.columns)\n",
    "df_commune.head()"
   ]
  },
  {
   "cell_type": "code",
   "execution_count": 18,
   "id": "e73a3a9a",
   "metadata": {},
   "outputs": [
    {
     "data": {
      "text/html": [
       "<div>\n",
       "<style scoped>\n",
       "    .dataframe tbody tr th:only-of-type {\n",
       "        vertical-align: middle;\n",
       "    }\n",
       "\n",
       "    .dataframe tbody tr th {\n",
       "        vertical-align: top;\n",
       "    }\n",
       "\n",
       "    .dataframe thead th {\n",
       "        text-align: right;\n",
       "    }\n",
       "</style>\n",
       "<table border=\"1\" class=\"dataframe\">\n",
       "  <thead>\n",
       "    <tr style=\"text-align: right;\">\n",
       "      <th></th>\n",
       "      <th>code_insee</th>\n",
       "      <th>nom_commune</th>\n",
       "      <th>POPULATION</th>\n",
       "      <th>geometry</th>\n",
       "    </tr>\n",
       "  </thead>\n",
       "  <tbody>\n",
       "    <tr>\n",
       "      <th>0</th>\n",
       "      <td>29067</td>\n",
       "      <td>Guerlesquin</td>\n",
       "      <td>1273</td>\n",
       "      <td>POLYGON ((-1.36312 -5.98356, -1.36312 -5.98356...</td>\n",
       "    </tr>\n",
       "    <tr>\n",
       "      <th>1</th>\n",
       "      <td>24372</td>\n",
       "      <td>Saint-Astier</td>\n",
       "      <td>5320</td>\n",
       "      <td>POLYGON ((-1.36309 -5.98357, -1.36309 -5.98357...</td>\n",
       "    </tr>\n",
       "    <tr>\n",
       "      <th>2</th>\n",
       "      <td>08043</td>\n",
       "      <td>Balan</td>\n",
       "      <td>1612</td>\n",
       "      <td>POLYGON ((-1.36307 -5.98355, -1.36307 -5.98355...</td>\n",
       "    </tr>\n",
       "    <tr>\n",
       "      <th>3</th>\n",
       "      <td>44180</td>\n",
       "      <td>Vallons-de-l'Erdre</td>\n",
       "      <td>6559</td>\n",
       "      <td>POLYGON ((-1.36310 -5.98356, -1.36310 -5.98356...</td>\n",
       "    </tr>\n",
       "    <tr>\n",
       "      <th>4</th>\n",
       "      <td>44213</td>\n",
       "      <td>Loireauxence</td>\n",
       "      <td>7517</td>\n",
       "      <td>POLYGON ((-1.36310 -5.98356, -1.36310 -5.98356...</td>\n",
       "    </tr>\n",
       "  </tbody>\n",
       "</table>\n",
       "</div>"
      ],
      "text/plain": [
       "  code_insee         nom_commune  POPULATION  \\\n",
       "0      29067         Guerlesquin        1273   \n",
       "1      24372        Saint-Astier        5320   \n",
       "2      08043               Balan        1612   \n",
       "3      44180  Vallons-de-l'Erdre        6559   \n",
       "4      44213        Loireauxence        7517   \n",
       "\n",
       "                                            geometry  \n",
       "0  POLYGON ((-1.36312 -5.98356, -1.36312 -5.98356...  \n",
       "1  POLYGON ((-1.36309 -5.98357, -1.36309 -5.98357...  \n",
       "2  POLYGON ((-1.36307 -5.98355, -1.36307 -5.98355...  \n",
       "3  POLYGON ((-1.36310 -5.98356, -1.36310 -5.98356...  \n",
       "4  POLYGON ((-1.36310 -5.98356, -1.36310 -5.98356...  "
      ]
     },
     "execution_count": 18,
     "metadata": {},
     "output_type": "execute_result"
    }
   ],
   "source": [
    "df_commune = df_commune[['INSEE_COM', 'NOM', 'POPULATION', 'geometry']].copy()\n",
    "df_commune.rename(columns={\n",
    "    'INSEE_COM': 'code_insee',\n",
    "    'NOM': 'nom_commune'\n",
    "}, inplace=True)\n",
    "\n",
    "df_commune['code_insee'] = df_commune['code_insee'].astype(str).str.zfill(5)\n",
    "\n",
    "# 1. Définir le CRS d'origine si absent (probablement Lambert 93)\n",
    "df_commune.set_crs(epsg=2154, inplace=True)\n",
    "\n",
    "# 2. Convertir vers WGS84 (EPSG:4326)\n",
    "df_commune = df_commune.to_crs(epsg=4326)\n",
    "\n",
    "\n",
    "df_commune.head()"
   ]
  },
  {
   "cell_type": "markdown",
   "id": "c862336e",
   "metadata": {},
   "source": [
    "## Fusion des données"
   ]
  },
  {
   "cell_type": "code",
   "execution_count": 21,
   "id": "3c34f962",
   "metadata": {},
   "outputs": [
    {
     "name": "stderr",
     "output_type": "stream",
     "text": [
      "C:\\Users\\PC\\AppData\\Local\\Temp\\ipykernel_18672\\1005048656.py:7: UserWarning: Geometry is in a geographic CRS. Results from 'centroid' are likely incorrect. Use 'GeoSeries.to_crs()' to re-project geometries to a projected CRS before this operation.\n",
      "\n",
      "  commune_coords = np.array(list(df_commune.geometry.centroid.apply(lambda geom: (geom.x, geom.y))))\n"
     ]
    }
   ],
   "source": [
    "df_commune = df_commune.to_crs(epsg=4326)\n",
    "df_stations = df_stations.to_crs(epsg=4326)\n",
    "from scipy.spatial import cKDTree\n",
    "import numpy as np\n",
    "\n",
    "# Extraire les coordonnées\n",
    "commune_coords = np.array(list(df_commune.geometry.centroid.apply(lambda geom: (geom.x, geom.y))))\n",
    "station_coords = np.array(list(df_stations.geometry.apply(lambda geom: (geom.x, geom.y))))\n",
    "\n",
    "# Construction du KDTree et recherche de la plus proche\n",
    "tree = cKDTree(station_coords)\n",
    "distances, indices = tree.query(commune_coords, k=1)\n",
    "\n",
    "# Ajouter l'identifiant de la station la plus proche\n",
    "df_commune['nearest_station'] = df_stations.iloc[indices]['numer_sta'].values.astype(int)"
   ]
  },
  {
   "cell_type": "code",
   "execution_count": 22,
   "id": "d8ebb347",
   "metadata": {},
   "outputs": [],
   "source": [
    "import pandas as pd\n",
    "\n",
    "# 1. Nettoyage des colonnes INSEE et station\n",
    "df_commune['code_insee'] = df_commune['code_insee'].astype(str).str.zfill(5)\n",
    "df_commune['nearest_station'] = df_commune['nearest_station'].astype(int)\n",
    "df_meteo['numer_sta'] = df_meteo['numer_sta'].astype(int)\n",
    "\n",
    "# 2. Conversion des dates\n",
    "df_meteo['date'] = pd.to_datetime(df_meteo['date'], errors='coerce')\n",
    "df_incendie['date'] = pd.to_datetime(df_incendie['date'], errors='coerce')\n",
    "\n",
    "# 3. Création de df_meteo_clean (colonnes utiles)\n",
    "df_meteo_clean = df_meteo[['numer_sta', 'date', 'ff', 'raf10', 't', 'u', 'rr24']].copy()\n",
    "\n",
    "# 4. Base commune avec stations météo les plus proches\n",
    "df_base = df_commune[['code_insee', 'nearest_station']].copy()\n",
    "\n",
    "# 5. Fusion : produit croisé (commune × chaque jour de météo de sa station)\n",
    "df_commune_meteo = df_base.merge(\n",
    "    df_meteo_clean,\n",
    "    left_on='nearest_station',\n",
    "    right_on='numer_sta',\n",
    "    how='left'\n",
    ")\n",
    "\n",
    "# 6. Nettoyage des lignes sans date (par sécurité)\n",
    "df_commune_meteo = df_commune_meteo[df_commune_meteo['date'].notna()]\n",
    "df_incendie = df_incendie[df_incendie['date'].notna()]"
   ]
  },
  {
   "cell_type": "code",
   "execution_count": 23,
   "id": "fca285a6",
   "metadata": {},
   "outputs": [],
   "source": [
    "# Base commune\n",
    "df_base = df_commune[['code_insee', 'nearest_station']].copy()\n",
    "\n",
    "# Fusion : produit croisé commune × météo de sa station\n",
    "df_commune_meteo = df_base.merge(\n",
    "    df_meteo_clean,\n",
    "    left_on='nearest_station',\n",
    "    right_on='numer_sta',\n",
    "    how='left'\n",
    ")\n",
    "\n",
    "# Supprimer les lignes sans date\n",
    "df_commune_meteo = df_commune_meteo[df_commune_meteo['date'].notna()]\n"
   ]
  },
  {
   "cell_type": "code",
   "execution_count": 24,
   "id": "90a0d8b9",
   "metadata": {},
   "outputs": [],
   "source": [
    "# Harmoniser les codes INSEE\n",
    "df_incendie['code_insee'] = df_incendie['code_insee'].astype(str).str.zfill(5)\n",
    "\n",
    "# Créer une clé : code_insee + date\n",
    "df_incendie['key'] = df_incendie['code_insee'] + '_' + df_incendie['date'].dt.strftime('%Y-%m-%d')\n",
    "df_commune_meteo['key'] = df_commune_meteo['code_insee'] + '_' + df_commune_meteo['date'].dt.strftime('%Y-%m-%d')\n",
    "\n",
    "# Génération du label (1 si incendie dans la commune ce jour-là)\n",
    "df_commune_meteo['label'] = df_commune_meteo['key'].isin(df_incendie['key']).astype(int)"
   ]
  },
  {
   "cell_type": "code",
   "execution_count": 25,
   "id": "8bfe38c8",
   "metadata": {},
   "outputs": [
    {
     "name": "stdout",
     "output_type": "stream",
     "text": [
      "label\n",
      "0    8663136\n",
      "1        744\n",
      "Name: count, dtype: int64\n",
      "                 date  label\n",
      "0 2015-01-01 00:00:00      0\n",
      "1 2015-01-01 03:00:00      0\n",
      "2 2015-01-01 06:00:00      0\n",
      "3 2015-01-01 09:00:00      0\n",
      "4 2015-01-01 12:00:00      0\n"
     ]
    }
   ],
   "source": [
    "print(df_commune_meteo['label'].value_counts())\n",
    "print(df_commune_meteo[['date', 'label']].drop_duplicates().head())"
   ]
  },
  {
   "cell_type": "code",
   "execution_count": 26,
   "id": "a2a820d8",
   "metadata": {},
   "outputs": [],
   "source": [
    "# Définir les colonnes features\n",
    "features = ['ff', 'raf10', 't', 'u', 'rr24']\n",
    "\n",
    "# Supprimer les lignes avec valeurs manquantes\n",
    "df_model = df_commune_meteo.dropna(subset=features + ['label'])\n",
    "\n",
    "# Créer X et y\n",
    "X = df_model[features]\n",
    "y = df_model['label']\n",
    "# Séparer les classes\n",
    "df_positives = df_model[df_model['label'] == 1]\n",
    "df_negatives = df_model[df_model['label'] == 0].sample(n=len(df_positives), random_state=42)\n",
    "\n",
    "# Fusionner et mélanger\n",
    "df_balanced = pd.concat([df_positives, df_negatives]).sample(frac=1, random_state=42)\n",
    "\n",
    "# Redéfinir X et y équilibrés\n",
    "X_balanced = df_balanced[features]\n",
    "y_balanced = df_balanced['label']"
   ]
  },
  {
   "cell_type": "markdown",
   "id": "d3b7f12e",
   "metadata": {},
   "source": [
    "## Random Forest Classification"
   ]
  },
  {
   "cell_type": "code",
   "execution_count": 27,
   "id": "981ca0d8",
   "metadata": {},
   "outputs": [
    {
     "name": "stdout",
     "output_type": "stream",
     "text": [
      "              precision    recall  f1-score   support\n",
      "\n",
      "           0       0.67      0.64      0.65       149\n",
      "           1       0.65      0.68      0.67       149\n",
      "\n",
      "    accuracy                           0.66       298\n",
      "   macro avg       0.66      0.66      0.66       298\n",
      "weighted avg       0.66      0.66      0.66       298\n",
      "\n",
      "[[ 95  54]\n",
      " [ 47 102]]\n"
     ]
    }
   ],
   "source": [
    "from sklearn.ensemble import RandomForestClassifier\n",
    "from sklearn.model_selection import train_test_split\n",
    "from sklearn.metrics import classification_report, confusion_matrix\n",
    "\n",
    "# Split train/test\n",
    "X_train, X_test, y_train, y_test = train_test_split(X_balanced, y_balanced, stratify=y_balanced, test_size=0.2, random_state=42)\n",
    "\n",
    "# Modèle\n",
    "model = RandomForestClassifier(n_estimators=100, random_state=42)\n",
    "model.fit(X_train, y_train)\n",
    "\n",
    "# Prédiction + évaluation\n",
    "y_pred = model.predict(X_test)\n",
    "print(classification_report(y_test, y_pred))\n",
    "print(confusion_matrix(y_test, y_pred))"
   ]
  },
  {
   "cell_type": "code",
   "execution_count": 28,
   "id": "af196c18",
   "metadata": {},
   "outputs": [
    {
     "data": {
      "text/plain": [
       "<sklearn.metrics._plot.confusion_matrix.ConfusionMatrixDisplay at 0x1919385d0d0>"
      ]
     },
     "execution_count": 28,
     "metadata": {},
     "output_type": "execute_result"
    },
    {
     "data": {
      "image/png": "[encoded data removed]",
      "text/plain": [
       "<Figure size 640x480 with 2 Axes>"
      ]
     },
     "metadata": {},
     "output_type": "display_data"
    }
   ],
   "source": [
    "from sklearn.metrics import ConfusionMatrixDisplay\n",
    "\n",
    "ConfusionMatrixDisplay.from_estimator(model, X_test, y_test, cmap='Blues')\n"
   ]
  },
  {
   "cell_type": "code",
   "execution_count": 31,
   "id": "85a21ba4",
   "metadata": {},
   "outputs": [
    {
     "name": "stdout",
     "output_type": "stream",
     "text": [
      "Confusion Matrix:\n",
      "[[ 95  54]\n",
      " [ 47 102]]\n",
      "\n",
      "Classification Report:\n",
      "              precision  recall  f1-score  support\n",
      "0                  0.67    0.64      0.65   149.00\n",
      "1                  0.65    0.68      0.67   149.00\n",
      "accuracy           0.66    0.66      0.66     0.66\n",
      "macro avg          0.66    0.66      0.66   298.00\n",
      "weighted avg       0.66    0.66      0.66   298.00\n"
     ]
    }
   ],
   "source": [
    "from sklearn.metrics import classification_report, confusion_matrix\n",
    "\n",
    "# Obtenir les scores\n",
    "report = classification_report(y_test, y_pred, output_dict=True)\n",
    "df_report = pd.DataFrame(report).transpose()\n",
    "\n",
    "# Matrice de confusion\n",
    "cm = confusion_matrix(y_test, y_pred)\n",
    "\n",
    "# Affichage console\n",
    "print(\"Confusion Matrix:\")\n",
    "print(cm)\n",
    "\n",
    "print(\"\\nClassification Report:\")\n",
    "print(df_report.round(2))\n"
   ]
  },
  {
   "cell_type": "markdown",
   "id": "da11794d",
   "metadata": {},
   "source": [
    "## XGBoost"
   ]
  },
  {
   "cell_type": "code",
   "execution_count": 33,
   "id": "3af13b85",
   "metadata": {},
   "outputs": [
    {
     "name": "stderr",
     "output_type": "stream",
     "text": [
      "c:\\Users\\PC\\anaconda3\\envs\\project_ml_env\\lib\\site-packages\\xgboost\\core.py:158: UserWarning: [22:23:51] WARNING: C:\\buildkite-agent\\builds\\buildkite-windows-cpu-autoscaling-group-i-08cbc0333d8d4aae1-1\\xgboost\\xgboost-ci-windows\\src\\learner.cc:740: \n",
      "Parameters: { \"use_label_encoder\" } are not used.\n",
      "\n",
      "  warnings.warn(smsg, UserWarning)\n"
     ]
    }
   ],
   "source": [
    "from xgboost import XGBClassifier\n",
    "from sklearn.model_selection import train_test_split\n",
    "from sklearn.metrics import roc_auc_score, classification_report, confusion_matrix\n",
    "\n",
    "X_train, X_test, y_train, y_test = train_test_split(X_balanced, y_balanced, test_size=0.3, random_state=42)\n",
    "\n",
    "xgb_model = XGBClassifier(use_label_encoder=False, eval_metric='logloss', random_state=42)\n",
    "xgb_model.fit(X_train, y_train)\n",
    "\n",
    "y_pred_proba = xgb_model.predict_proba(X_test)[:, 1]\n",
    "y_pred = xgb_model.predict(X_test)\n",
    "\n",
    "roc_auc = roc_auc_score(y_test, y_pred_proba)\n",
    "report = classification_report(y_test, y_pred, output_dict=False)\n",
    "conf_matrix = confusion_matrix(y_test, y_pred)"
   ]
  },
  {
   "cell_type": "code",
   "execution_count": 34,
   "id": "d18ebe57",
   "metadata": {},
   "outputs": [
    {
     "name": "stdout",
     "output_type": "stream",
     "text": [
      "\n",
      "📊 Évaluation XGBoost\n",
      "ROC AUC : 0.694\n",
      "\n",
      "              precision    recall  f1-score   support\n",
      "\n",
      "           0       0.65      0.57      0.61       230\n",
      "           1       0.60      0.68      0.64       217\n",
      "\n",
      "    accuracy                           0.62       447\n",
      "   macro avg       0.63      0.63      0.62       447\n",
      "weighted avg       0.63      0.62      0.62       447\n",
      "\n",
      "\n"
     ]
    },
    {
     "data": {
      "text/html": [
       "<div>\n",
       "<style scoped>\n",
       "    .dataframe tbody tr th:only-of-type {\n",
       "        vertical-align: middle;\n",
       "    }\n",
       "\n",
       "    .dataframe tbody tr th {\n",
       "        vertical-align: top;\n",
       "    }\n",
       "\n",
       "    .dataframe thead th {\n",
       "        text-align: right;\n",
       "    }\n",
       "</style>\n",
       "<table border=\"1\" class=\"dataframe\">\n",
       "  <thead>\n",
       "    <tr style=\"text-align: right;\">\n",
       "      <th></th>\n",
       "      <th>Prédit 0</th>\n",
       "      <th>Prédit 1</th>\n",
       "    </tr>\n",
       "  </thead>\n",
       "  <tbody>\n",
       "    <tr>\n",
       "      <th>Classe 0</th>\n",
       "      <td>132</td>\n",
       "      <td>98</td>\n",
       "    </tr>\n",
       "    <tr>\n",
       "      <th>Classe 1</th>\n",
       "      <td>70</td>\n",
       "      <td>147</td>\n",
       "    </tr>\n",
       "  </tbody>\n",
       "</table>\n",
       "</div>"
      ],
      "text/plain": [
       "          Prédit 0  Prédit 1\n",
       "Classe 0       132        98\n",
       "Classe 1        70       147"
      ]
     },
     "execution_count": 34,
     "metadata": {},
     "output_type": "execute_result"
    }
   ],
   "source": [
    "def display_model_results(auc, report, matrix):\n",
    "    print(f\"\\n📊 Évaluation XGBoost\\nROC AUC : {auc:.3f}\\n\\n{report}\\n\")\n",
    "    return pd.DataFrame(matrix, index=[\"Classe 0\", \"Classe 1\"], columns=[\"Prédit 0\", \"Prédit 1\"])\n",
    "\n",
    "display_model_results(roc_auc, report, conf_matrix)"
   ]
  },
  {
   "cell_type": "markdown",
   "id": "b055a2a5",
   "metadata": {},
   "source": [
    "## LightGBM"
   ]
  },
  {
   "cell_type": "code",
   "execution_count": 35,
   "id": "f623e052",
   "metadata": {},
   "outputs": [
    {
     "name": "stdout",
     "output_type": "stream",
     "text": [
      "Collecting lightgbm\n",
      "  Downloading lightgbm-4.6.0-py3-none-win_amd64.whl.metadata (17 kB)\n",
      "Requirement already satisfied: numpy>=1.17.0 in c:\\users\\pc\\anaconda3\\envs\\project_ml_env\\lib\\site-packages (from lightgbm) (1.24.3)\n",
      "Requirement already satisfied: scipy in c:\\users\\pc\\anaconda3\\envs\\project_ml_env\\lib\\site-packages (from lightgbm) (1.10.1)\n",
      "Downloading lightgbm-4.6.0-py3-none-win_amd64.whl (1.5 MB)\n",
      "   ---------------------------------------- 0.0/1.5 MB ? eta -:--:--\n",
      "   ---------------------------------------- 1.5/1.5 MB 10.8 MB/s eta 0:00:00\n",
      "Installing collected packages: lightgbm\n",
      "Successfully installed lightgbm-4.6.0\n"
     ]
    }
   ],
   "source": [
    "!pip install lightgbm"
   ]
  },
  {
   "cell_type": "code",
   "execution_count": 36,
   "id": "b973a12f",
   "metadata": {},
   "outputs": [
    {
     "name": "stdout",
     "output_type": "stream",
     "text": [
      "[LightGBM] [Info] Number of positive: 527, number of negative: 514\n",
      "[LightGBM] [Info] Auto-choosing row-wise multi-threading, the overhead of testing was 0.000091 seconds.\n",
      "You can set `force_row_wise=true` to remove the overhead.\n",
      "And if memory is not enough, you can set `force_col_wise=true`.\n",
      "[LightGBM] [Info] Total Bins 136\n",
      "[LightGBM] [Info] Number of data points in the train set: 1041, number of used features: 4\n",
      "[LightGBM] [Info] [binary:BoostFromScore]: pavg=0.506244 -> initscore=0.024977\n",
      "[LightGBM] [Info] Start training from score 0.024977\n"
     ]
    }
   ],
   "source": [
    "from lightgbm import LGBMClassifier\n",
    "from sklearn.model_selection import train_test_split\n",
    "from sklearn.metrics import roc_auc_score, classification_report, confusion_matrix\n",
    "import pandas as pd\n",
    "X_train, X_test, y_train, y_test = train_test_split(X_balanced, y_balanced, test_size=0.3, random_state=42)\n",
    "\n",
    "# Initialisation du modèle\n",
    "model = LGBMClassifier(random_state=42)\n",
    "\n",
    "# Entraînement\n",
    "model.fit(X_train, y_train)\n",
    "\n",
    "# Prédiction des classes et des probabilités\n",
    "y_pred = model.predict(X_test)\n",
    "y_proba = model.predict_proba(X_test)[:, 1]"
   ]
  },
  {
   "cell_type": "code",
   "execution_count": 37,
   "id": "ee87c37f",
   "metadata": {},
   "outputs": [
    {
     "name": "stdout",
     "output_type": "stream",
     "text": [
      "Évaluation LightGBM\n",
      "ROC AUC Score : 0.702\n",
      "\n",
      "Classification Report :\n",
      "               precision    recall  f1-score   support\n",
      "\n",
      "           0       0.66      0.61      0.64       230\n",
      "           1       0.62      0.66      0.64       217\n",
      "\n",
      "    accuracy                           0.64       447\n",
      "   macro avg       0.64      0.64      0.64       447\n",
      "weighted avg       0.64      0.64      0.64       447\n",
      "\n",
      "Matrice de Confusion :\n",
      " [[141  89]\n",
      " [ 73 144]]\n"
     ]
    }
   ],
   "source": [
    "# Évaluation\n",
    "print(\"Évaluation LightGBM\")\n",
    "print(f\"ROC AUC Score : {roc_auc_score(y_test, y_proba):.3f}\\n\")\n",
    "print(\"Classification Report :\\n\", classification_report(y_test, y_pred))\n",
    "print(\"Matrice de Confusion :\\n\", confusion_matrix(y_test, y_pred))"
   ]
  },
  {
   "cell_type": "markdown",
   "id": "a19e8549",
   "metadata": {},
   "source": [
    "## Prédiction gravité d'un incendie."
   ]
  },
  {
   "cell_type": "code",
   "execution_count": 62,
   "id": "f79ca7a8",
   "metadata": {},
   "outputs": [],
   "source": [
    "df_incendie= pd.read_csv('./Data/Incendies.csv', sep=';', header=3)\n",
    "colonnes_utiles = [\n",
    "    'Année',\n",
    "    'Numéro',\n",
    "    'Département',\n",
    "    'Code INSEE',\n",
    "    'Date de première alerte',\n",
    "    'Surface parcourue (m2)',  \n",
    "    'Surface forêt (m2)',\n",
    "    'Surface maquis garrigues (m2)',\n",
    "    'Autres surfaces naturelles hors forêt (m2)',\n",
    "    'Surface autres terres boisées (m2)',\n",
    "    'Surfaces non boisées naturelles (m2)',\n",
    "    'Surfaces non boisées artificialisées (m2)',\n",
    "    'Surfaces non boisées (m2)'\n",
    "]\n",
    "\n",
    "incendie = df_incendie[colonnes_utiles].copy()"
   ]
  },
  {
   "cell_type": "code",
   "execution_count": 63,
   "id": "3aa29139",
   "metadata": {},
   "outputs": [],
   "source": [
    "incendie.fillna(0, inplace=True)\n",
    "# Suppression des colonnes redondantes après fusion manuelle des surfaces boisées et non boisées\n",
    "incendie.drop(['Surface autres terres boisées (m2)','Surfaces non boisées (m2)'], axis=1, inplace=True)\n",
    "\n",
    "incendie.rename(columns={\n",
    "    'Année': 'annee',\n",
    "    'Numéro': 'id_inc',\n",
    "    'Département': 'dep',\n",
    "    'Code INSEE': 'code_insee',\n",
    "    'Date de première alerte': 'date',\n",
    "    'Surface parcourue (m2)': 'surf_brulee',\n",
    "    'Surface forêt (m2)': 'surf_foret',\n",
    "    'Surface maquis garrigues (m2)': 'surf_maquis',\n",
    "    'Autres surfaces naturelles hors forêt (m2)': 'autre_surf',\n",
    "    'Surface autres terres boisées (m2)': 'surf_autres_bois',\n",
    "    'Surfaces non boisées naturelles (m2)': 'surf_nb_naturelle',\n",
    "    'Surfaces non boisées artificialisées (m2)': 'surf_nb_artificielle',\n",
    "    'Surfaces non boisées (m2)': 'surf_nb_totale'\n",
    "}, inplace=True)\n",
    "\n",
    "\n",
    "incendie.drop_duplicates(['date','id_inc']).shape\n",
    "\n",
    "incendie.drop_duplicates(['code_insee','id_inc']).shape\n",
    "\n",
    "# On enlève les départements corses\n",
    "incendie = incendie[~incendie['code_insee'].astype(str).str.startswith(('2A', '2B'))]\n",
    "\n",
    "# On convertit la colonne code_insee en entier\n",
    "incendie['code_insee'] = incendie['code_insee'].astype(int)\n",
    "# Regroupement des départements d’Île-de-France sous le code de Paris ('75'), comme dans les données IGN sauf pour la Seine-et-Marne \n",
    "incendie.loc[\n",
    "    (incendie.dep == '75') |\n",
    "    (incendie.dep == '91') |\n",
    "    (incendie.dep == '92') |\n",
    "    (incendie.dep == '93') |\n",
    "    (incendie.dep == '94') |\n",
    "    (incendie.dep == '95') |\n",
    "    (incendie.dep == '78'),\n",
    "    'dep'\n",
    "] = '75'\n",
    "# Convertir les dates en datetime\n",
    "incendie['date'] = incendie.date.apply(lambda _: dt.datetime.strptime(_,\"%Y-%m-%d %H:%M:%S\"))"
   ]
  },
  {
   "cell_type": "code",
   "execution_count": 65,
   "id": "fb6d9b82",
   "metadata": {},
   "outputs": [],
   "source": [
    "df = incendie.copy()\n",
    "df['month'] = pd.to_datetime(df['date']).dt.month\n",
    "df['day'] = pd.to_datetime(df['date']).dt.day\n",
    "df['dayofweek'] = pd.to_datetime(df['date']).dt.dayofweek\n",
    "\n",
    "X = df[['dep', 'code_insee', 'surf_foret',\n",
    "        'surf_nb_naturelle', 'surf_nb_artificielle',\n",
    "      'month', 'day', 'dayofweek']].copy()\n",
    "\n",
    "y = df['surf_brulee']\n",
    "\n",
    "from sklearn.preprocessing import LabelEncoder\n",
    "for col in ['dep', 'code_insee']:\n",
    "    X[col] = LabelEncoder().fit_transform(X[col])\n",
    "\n",
    "from sklearn.model_selection import train_test_split\n",
    "X_train, X_test, y_train, y_test = train_test_split(X, y, test_size=0.2, random_state=42)"
   ]
  },
  {
   "cell_type": "code",
   "execution_count": 66,
   "id": "70cfe1a8",
   "metadata": {},
   "outputs": [
    {
     "name": "stdout",
     "output_type": "stream",
     "text": [
      "Linear Regression\n",
      "Mean absolute Error: 43554.42907529078\n",
      "R²: 0.9459409537037373\n"
     ]
    }
   ],
   "source": [
    "from sklearn.linear_model import LinearRegression\n",
    "from sklearn.metrics import mean_absolute_error, r2_score\n",
    "\n",
    "# Modèle simple\n",
    "linreg = LinearRegression()\n",
    "linreg.fit(X_train, y_train)\n",
    "\n",
    "# Prédictions\n",
    "y_pred_lin = linreg.predict(X_test)\n",
    "\n",
    "# Évaluation\n",
    "print(\"Linear Regression\")\n",
    "print(\"Mean absolute Error:\", mean_absolute_error(y_test, y_pred_lin))\n",
    "print(\"R²:\", r2_score(y_test, y_pred_lin))"
   ]
  },
  {
   "cell_type": "code",
   "execution_count": 67,
   "id": "6487de2b",
   "metadata": {},
   "outputs": [
    {
     "data": {
      "image/png": "[encoded data removed]",
      "text/plain": [
       "<Figure size 800x600 with 1 Axes>"
      ]
     },
     "metadata": {},
     "output_type": "display_data"
    }
   ],
   "source": [
    "import matplotlib.pyplot as plt\n",
    "\n",
    "\n",
    "y_pred_lin = linreg.predict(X_test)\n",
    "\n",
    "# Plotting\n",
    "plt.figure(figsize=(8, 6))\n",
    "plt.scatter(y_test, y_pred_lin, alpha=0.3, color='blue')\n",
    "plt.plot([y_test.min(), y_test.max()], [y_test.min(), y_test.max()], 'r--', linewidth=2)\n",
    "plt.xlabel(\"Burned area (m²)\")\n",
    "plt.ylabel(\"Prediction of burned area(m²)\")\n",
    "plt.title(\"Linear Regression\")\n",
    "plt.tight_layout()\n",
    "plt.show()"
   ]
  },
  {
   "cell_type": "code",
   "execution_count": 68,
   "id": "412521b7",
   "metadata": {},
   "outputs": [
    {
     "name": "stdout",
     "output_type": "stream",
     "text": [
      "Random Forest Regressor\n",
      "Mean absolute Error: 53880.86700577883\n",
      "R²: 0.7530067008675141\n"
     ]
    }
   ],
   "source": [
    "from sklearn.ensemble import RandomForestRegressor\n",
    "\n",
    "# Modèle avancé\n",
    "rf = RandomForestRegressor(n_estimators=100, random_state=42)\n",
    "rf.fit(X_train, y_train)\n",
    "\n",
    "# Prédictions\n",
    "y_pred_rf = rf.predict(X_test)\n",
    "\n",
    "# Évaluation\n",
    "print(\"Random Forest Regressor\")\n",
    "print(\"Mean absolute Error:\", mean_absolute_error(y_test, y_pred_rf))\n",
    "print(\"R²:\", r2_score(y_test, y_pred_rf))"
   ]
  },
  {
   "cell_type": "code",
   "execution_count": 69,
   "id": "eff035da",
   "metadata": {},
   "outputs": [
    {
     "data": {
      "image/png": "[encoded data removed]",
      "text/plain": [
       "<Figure size 640x480 with 1 Axes>"
      ]
     },
     "metadata": {},
     "output_type": "display_data"
    }
   ],
   "source": [
    "import matplotlib.pyplot as plt\n",
    "\n",
    "plt.scatter(y_test, y_pred_rf, alpha=0.3)\n",
    "plt.xlabel(\"Burned area (m²)\")\n",
    "plt.ylabel(\"Prediction of burned area(m²)\")\n",
    "plt.title(\"Random Forest\")\n",
    "plt.plot([y_test.min(), y_test.max()], [y_test.min(), y_test.max()], 'r--')\n",
    "plt.tight_layout()\n",
    "plt.show()"
   ]
  },
  {
   "cell_type": "code",
   "execution_count": null,
   "id": "987399f6",
   "metadata": {},
   "outputs": [],
   "source": []
  }
 ],
 "metadata": {
  "kernelspec": {
   "display_name": "project_ml_env",
   "language": "python",
   "name": "python3"
  },
  "language_info": {
   "codemirror_mode": {
    "name": "ipython",
    "version": 3
   },
   "file_extension": ".py",
   "mimetype": "text/x-python",
   "name": "python",
   "nbconvert_exporter": "python",
   "pygments_lexer": "ipython3",
   "version": "3.8.19"
  }
 },
 "nbformat": 4,
 "nbformat_minor": 5
}
